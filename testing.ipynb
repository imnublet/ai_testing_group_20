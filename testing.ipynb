{
 "cells": [
  {
   "cell_type": "code",
   "execution_count": 1,
   "metadata": {},
   "outputs": [
    {
     "name": "stderr",
     "output_type": "stream",
     "text": [
      "/var/folders/hz/8qhn2dwn2zs419cpd7l0w6q40000gn/T/ipykernel_8262/3107806948.py:1: DeprecationWarning: \n",
      "Pyarrow will become a required dependency of pandas in the next major release of pandas (pandas 3.0),\n",
      "(to allow more performant data types, such as the Arrow string type, and better interoperability with other libraries)\n",
      "but was not found to be installed on your system.\n",
      "If this would cause problems for you,\n",
      "please provide us feedback at https://github.com/pandas-dev/pandas/issues/54466\n",
      "        \n",
      "  import pandas as pd\n"
     ]
    }
   ],
   "source": [
    "import pandas as pd\n",
    "import numpy as np\n",
    "from sklearn.model_selection import train_test_split\n",
    "import onnxruntime as rt\n",
    "import onnx\n",
    "from skl2onnx.common.data_types import FloatTensorType\n",
    "from skl2onnx import to_onnx\n",
    "from sklearn.feature_selection import VarianceThreshold\n",
    "from sklearn.ensemble import GradientBoostingClassifier\n",
    "from sklearn.metrics import accuracy_score\n",
    "from sklearn.pipeline import Pipeline\n",
    "from skl2onnx import convert_sklearn\n",
    "from sklearn.metrics import confusion_matrix\n",
    "from sklearn.neural_network import MLPClassifier\n",
    "from sklearn.preprocessing import StandardScaler\n",
    "from sklearn.linear_model import LogisticRegression\n"
   ]
  },
  {
   "cell_type": "code",
   "execution_count": 2,
   "metadata": {},
   "outputs": [],
   "source": [
    "data = pd.read_csv('data/investigation_train_large_checked.csv')\n",
    "y = data['checked']\n",
    "X = data.drop(['checked'], axis=1)\n",
    "X = X.astype(np.float32)\n",
    "\n",
    "# Let's split the dataset into train and test\n",
    "X_train, X_test, y_train, y_test = train_test_split(X, y, test_size=0.2, random_state=42)"
   ]
  },
  {
   "cell_type": "markdown",
   "metadata": {},
   "source": [
    "This notebook contains the testing part of the assignment"
   ]
  },
  {
   "cell_type": "markdown",
   "metadata": {},
   "source": [
    "## Mutation Testing\n",
    "Adding noise to the input only influences one model here"
   ]
  },
  {
   "cell_type": "code",
   "execution_count": null,
   "metadata": {},
   "outputs": [
    {
     "name": "stdout",
     "output_type": "stream",
     "text": [
      "                                              Feature   Coefficient  \\\n",
      "165               contacten_soort_document__uitgaand_  2.424756e-03   \n",
      "24                            afspraak_aantal_woorden -1.984911e-03   \n",
      "216                    persoon_leeftijd_bij_onderzoek -1.476125e-03   \n",
      "286  relatie_kind_leeftijd_verschil_ouder_eerste_kind  1.421791e-03   \n",
      "244             persoonlijke_eigenschappen_spreektaal -1.183518e-03   \n",
      "..                                                ...           ...   \n",
      "21                   adres_recentste_wijk_stadscentru -5.309478e-07   \n",
      "64                   belemmering_niet_computervaardig  2.201608e-07   \n",
      "7                 adres_recentste_buurt_nieuwe_westen -1.695506e-07   \n",
      "10                     adres_recentste_buurt_vreewijk -1.427809e-07   \n",
      "9                  adres_recentste_buurt_oude_noorden -1.295613e-07   \n",
      "\n",
      "     AbsCoefficient  \n",
      "165    2.424756e-03  \n",
      "24     1.984911e-03  \n",
      "216    1.476125e-03  \n",
      "286    1.421791e-03  \n",
      "244    1.183518e-03  \n",
      "..              ...  \n",
      "21     5.309478e-07  \n",
      "64     2.201608e-07  \n",
      "7      1.695506e-07  \n",
      "10     1.427809e-07  \n",
      "9      1.295613e-07  \n",
      "\n",
      "[317 rows x 3 columns]\n"
     ]
    },
    {
     "name": "stderr",
     "output_type": "stream",
     "text": [
      "/Users/luca/Desktop/TUDelft/Y2/DSAIT4015_SETAIS/ai_testing_group_20/aitesting/lib/python3.11/site-packages/sklearn/linear_model/_logistic.py:469: ConvergenceWarning: lbfgs failed to converge (status=1):\n",
      "STOP: TOTAL NO. of ITERATIONS REACHED LIMIT.\n",
      "\n",
      "Increase the number of iterations (max_iter) or scale the data as shown in:\n",
      "    https://scikit-learn.org/stable/modules/preprocessing.html\n",
      "Please also refer to the documentation for alternative solver options:\n",
      "    https://scikit-learn.org/stable/modules/linear_model.html#logistic-regression\n",
      "  n_iter_i = _check_optimize_result(\n"
     ]
    }
   ],
   "source": [
    "# Fit your Logistic Regression model\n",
    "bad_model = LogisticRegression(random_state=42)\n",
    "bad_model.fit(X_train, y_train)\n",
    "\n",
    "# Get the coefficients (weights) of the model\n",
    "coefficients = bad_model.coef_[0]\n",
    "\n",
    "# Create a DataFrame to display the coefficients and their corresponding feature names\n",
    "feature_importance = pd.DataFrame({\n",
    "    'Feature': X_train.columns,  # The feature names\n",
    "    'Coefficient': coefficients  # The coefficients\n",
    "})\n",
    "\n",
    "# Sort the features by the absolute value of the coefficients\n",
    "feature_importance['AbsCoefficient'] = np.abs(feature_importance['Coefficient'])\n",
    "feature_importance = feature_importance.sort_values(by='AbsCoefficient', ascending=False)\n",
    "\n",
    "# Display the most important features\n",
    "print(feature_importance[['Feature', 'Coefficient', 'AbsCoefficient']])"
   ]
  },
  {
   "cell_type": "code",
   "execution_count": null,
   "metadata": {},
   "outputs": [],
   "source": [
    "good_accuracies = []\n",
    "bad_accuracies = []\n",
    "good_mutated_accuracies = []\n",
    "bad_mutated_accuracies = []\n",
    "\n",
    "for run in range(10):\n",
    "    print(f\"\\nRun {run+1}/{10}\")\n",
    "    X_train, X_test, y_train, y_test = train_test_split(X, y, test_size=0.2, random_state=run)\n",
    "    # Create a original model\n",
    "    good_model = GradientBoostingClassifier(n_estimators=100, learning_rate=1, max_depth=1, random_state=run)        \n",
    "    good_model.fit(X_train, y_train)\n",
    "    y_pred_good = good_model.predict(X_test)\n",
    "    good_acc = accuracy_score(y_test,y_pred_good)\n",
    "    good_accuracies.append(good_acc)\n",
    "    \n",
    "    bad_model = LogisticRegression(random_state=run)                     \n",
    "    bad_model.fit(X_train, y_train)\n",
    "    y_pred_bad = bad_model.predict(X_test)\n",
    "    bad_acc = accuracy_score(y_test,y_pred_bad)\n",
    "    bad_accuracies.append(bad_acc)\n",
    "\n",
    "    print(f\"Good Accuracy: {good_acc:.4f}, bad Accuracy: {bad_acc:.4f}\")\n",
    "\n",
    "    noise_test = np.random.normal(0, 10, size=X_test.shape)\n",
    "    X_test_noisy = X_test + noise_test  \n",
    "\n",
    "    y_pred_good_altered = good_model.predict(X_test_noisy)\n",
    "    good_mutated_acc = accuracy_score(y_test,y_pred_good_altered)\n",
    "    good_mutated_accuracies.append(good_mutated_acc)\n",
    "\n",
    "    y_pred_bad_altered = bad_model.predict(X_test_noisy)\n",
    "    bad_mutated_acc = accuracy_score(y_test,y_pred_bad_altered)\n",
    "    bad_mutated_accuracies.append(bad_mutated_acc)\n",
    "\n",
    "    print(f\"Good Accuracy altered: {good_mutated_acc:.4f}, bad Accuracy altered: {bad_mutated_acc:.4f}\")\n",
    "\n"
   ]
  },
  {
   "cell_type": "code",
   "execution_count": 8,
   "metadata": {},
   "outputs": [
    {
     "data": {
      "application/vnd.plotly.v1+json": {
       "config": {
        "plotlyServerURL": "https://plot.ly"
       },
       "data": [
        {
         "alignmentgroup": "True",
         "hovertemplate": "Model Type=%{x}<br>Accuracy=%{y}<extra></extra>",
         "legendgroup": "",
         "marker": {
          "color": "#636efa"
         },
         "name": "",
         "notched": false,
         "offsetgroup": "",
         "orientation": "v",
         "showlegend": false,
         "type": "box",
         "x": [
          "Bad model",
          "Bad model",
          "Bad model",
          "Bad model",
          "Bad model",
          "Bad model",
          "Bad model",
          "Bad model",
          "Bad model",
          "Bad model",
          "Bad model mutated",
          "Bad model mutated",
          "Bad model mutated",
          "Bad model mutated",
          "Bad model mutated",
          "Bad model mutated",
          "Bad model mutated",
          "Bad model mutated",
          "Bad model mutated",
          "Bad model mutated",
          "Good model",
          "Good model",
          "Good model",
          "Good model",
          "Good model",
          "Good model",
          "Good model",
          "Good model",
          "Good model",
          "Good model",
          "Good model mutated",
          "Good model mutated",
          "Good model mutated",
          "Good model mutated",
          "Good model mutated",
          "Good model mutated",
          "Good model mutated",
          "Good model mutated",
          "Good model mutated",
          "Good model mutated"
         ],
         "x0": " ",
         "xaxis": "x",
         "y": [
          1,
          1,
          1,
          1,
          1,
          1,
          1,
          1,
          1,
          1,
          0.5032307692307693,
          0.49823076923076925,
          0.5063461538461539,
          0.5011153846153846,
          0.5034615384615385,
          0.4985769230769231,
          0.5032692307692308,
          0.5070769230769231,
          0.5021153846153846,
          0.5031153846153846,
          0.8509230769230769,
          0.8505769230769231,
          0.8499615384615384,
          0.853,
          0.8488076923076923,
          0.8513846153846154,
          0.8518846153846154,
          0.8555769230769231,
          0.8520769230769231,
          0.8530384615384615,
          0.8511538461538461,
          0.8507692307692307,
          0.8499615384615384,
          0.8530769230769231,
          0.8488461538461538,
          0.8515384615384616,
          0.8522307692307692,
          0.8555,
          0.8514615384615385,
          0.8525384615384616
         ],
         "y0": " ",
         "yaxis": "y"
        }
       ],
       "layout": {
        "boxmode": "group",
        "legend": {
         "tracegroupgap": 0
        },
        "template": {
         "data": {
          "bar": [
           {
            "error_x": {
             "color": "#2a3f5f"
            },
            "error_y": {
             "color": "#2a3f5f"
            },
            "marker": {
             "line": {
              "color": "#E5ECF6",
              "width": 0.5
             },
             "pattern": {
              "fillmode": "overlay",
              "size": 10,
              "solidity": 0.2
             }
            },
            "type": "bar"
           }
          ],
          "barpolar": [
           {
            "marker": {
             "line": {
              "color": "#E5ECF6",
              "width": 0.5
             },
             "pattern": {
              "fillmode": "overlay",
              "size": 10,
              "solidity": 0.2
             }
            },
            "type": "barpolar"
           }
          ],
          "carpet": [
           {
            "aaxis": {
             "endlinecolor": "#2a3f5f",
             "gridcolor": "white",
             "linecolor": "white",
             "minorgridcolor": "white",
             "startlinecolor": "#2a3f5f"
            },
            "baxis": {
             "endlinecolor": "#2a3f5f",
             "gridcolor": "white",
             "linecolor": "white",
             "minorgridcolor": "white",
             "startlinecolor": "#2a3f5f"
            },
            "type": "carpet"
           }
          ],
          "choropleth": [
           {
            "colorbar": {
             "outlinewidth": 0,
             "ticks": ""
            },
            "type": "choropleth"
           }
          ],
          "contour": [
           {
            "colorbar": {
             "outlinewidth": 0,
             "ticks": ""
            },
            "colorscale": [
             [
              0,
              "#0d0887"
             ],
             [
              0.1111111111111111,
              "#46039f"
             ],
             [
              0.2222222222222222,
              "#7201a8"
             ],
             [
              0.3333333333333333,
              "#9c179e"
             ],
             [
              0.4444444444444444,
              "#bd3786"
             ],
             [
              0.5555555555555556,
              "#d8576b"
             ],
             [
              0.6666666666666666,
              "#ed7953"
             ],
             [
              0.7777777777777778,
              "#fb9f3a"
             ],
             [
              0.8888888888888888,
              "#fdca26"
             ],
             [
              1,
              "#f0f921"
             ]
            ],
            "type": "contour"
           }
          ],
          "contourcarpet": [
           {
            "colorbar": {
             "outlinewidth": 0,
             "ticks": ""
            },
            "type": "contourcarpet"
           }
          ],
          "heatmap": [
           {
            "colorbar": {
             "outlinewidth": 0,
             "ticks": ""
            },
            "colorscale": [
             [
              0,
              "#0d0887"
             ],
             [
              0.1111111111111111,
              "#46039f"
             ],
             [
              0.2222222222222222,
              "#7201a8"
             ],
             [
              0.3333333333333333,
              "#9c179e"
             ],
             [
              0.4444444444444444,
              "#bd3786"
             ],
             [
              0.5555555555555556,
              "#d8576b"
             ],
             [
              0.6666666666666666,
              "#ed7953"
             ],
             [
              0.7777777777777778,
              "#fb9f3a"
             ],
             [
              0.8888888888888888,
              "#fdca26"
             ],
             [
              1,
              "#f0f921"
             ]
            ],
            "type": "heatmap"
           }
          ],
          "heatmapgl": [
           {
            "colorbar": {
             "outlinewidth": 0,
             "ticks": ""
            },
            "colorscale": [
             [
              0,
              "#0d0887"
             ],
             [
              0.1111111111111111,
              "#46039f"
             ],
             [
              0.2222222222222222,
              "#7201a8"
             ],
             [
              0.3333333333333333,
              "#9c179e"
             ],
             [
              0.4444444444444444,
              "#bd3786"
             ],
             [
              0.5555555555555556,
              "#d8576b"
             ],
             [
              0.6666666666666666,
              "#ed7953"
             ],
             [
              0.7777777777777778,
              "#fb9f3a"
             ],
             [
              0.8888888888888888,
              "#fdca26"
             ],
             [
              1,
              "#f0f921"
             ]
            ],
            "type": "heatmapgl"
           }
          ],
          "histogram": [
           {
            "marker": {
             "pattern": {
              "fillmode": "overlay",
              "size": 10,
              "solidity": 0.2
             }
            },
            "type": "histogram"
           }
          ],
          "histogram2d": [
           {
            "colorbar": {
             "outlinewidth": 0,
             "ticks": ""
            },
            "colorscale": [
             [
              0,
              "#0d0887"
             ],
             [
              0.1111111111111111,
              "#46039f"
             ],
             [
              0.2222222222222222,
              "#7201a8"
             ],
             [
              0.3333333333333333,
              "#9c179e"
             ],
             [
              0.4444444444444444,
              "#bd3786"
             ],
             [
              0.5555555555555556,
              "#d8576b"
             ],
             [
              0.6666666666666666,
              "#ed7953"
             ],
             [
              0.7777777777777778,
              "#fb9f3a"
             ],
             [
              0.8888888888888888,
              "#fdca26"
             ],
             [
              1,
              "#f0f921"
             ]
            ],
            "type": "histogram2d"
           }
          ],
          "histogram2dcontour": [
           {
            "colorbar": {
             "outlinewidth": 0,
             "ticks": ""
            },
            "colorscale": [
             [
              0,
              "#0d0887"
             ],
             [
              0.1111111111111111,
              "#46039f"
             ],
             [
              0.2222222222222222,
              "#7201a8"
             ],
             [
              0.3333333333333333,
              "#9c179e"
             ],
             [
              0.4444444444444444,
              "#bd3786"
             ],
             [
              0.5555555555555556,
              "#d8576b"
             ],
             [
              0.6666666666666666,
              "#ed7953"
             ],
             [
              0.7777777777777778,
              "#fb9f3a"
             ],
             [
              0.8888888888888888,
              "#fdca26"
             ],
             [
              1,
              "#f0f921"
             ]
            ],
            "type": "histogram2dcontour"
           }
          ],
          "mesh3d": [
           {
            "colorbar": {
             "outlinewidth": 0,
             "ticks": ""
            },
            "type": "mesh3d"
           }
          ],
          "parcoords": [
           {
            "line": {
             "colorbar": {
              "outlinewidth": 0,
              "ticks": ""
             }
            },
            "type": "parcoords"
           }
          ],
          "pie": [
           {
            "automargin": true,
            "type": "pie"
           }
          ],
          "scatter": [
           {
            "fillpattern": {
             "fillmode": "overlay",
             "size": 10,
             "solidity": 0.2
            },
            "type": "scatter"
           }
          ],
          "scatter3d": [
           {
            "line": {
             "colorbar": {
              "outlinewidth": 0,
              "ticks": ""
             }
            },
            "marker": {
             "colorbar": {
              "outlinewidth": 0,
              "ticks": ""
             }
            },
            "type": "scatter3d"
           }
          ],
          "scattercarpet": [
           {
            "marker": {
             "colorbar": {
              "outlinewidth": 0,
              "ticks": ""
             }
            },
            "type": "scattercarpet"
           }
          ],
          "scattergeo": [
           {
            "marker": {
             "colorbar": {
              "outlinewidth": 0,
              "ticks": ""
             }
            },
            "type": "scattergeo"
           }
          ],
          "scattergl": [
           {
            "marker": {
             "colorbar": {
              "outlinewidth": 0,
              "ticks": ""
             }
            },
            "type": "scattergl"
           }
          ],
          "scattermapbox": [
           {
            "marker": {
             "colorbar": {
              "outlinewidth": 0,
              "ticks": ""
             }
            },
            "type": "scattermapbox"
           }
          ],
          "scatterpolar": [
           {
            "marker": {
             "colorbar": {
              "outlinewidth": 0,
              "ticks": ""
             }
            },
            "type": "scatterpolar"
           }
          ],
          "scatterpolargl": [
           {
            "marker": {
             "colorbar": {
              "outlinewidth": 0,
              "ticks": ""
             }
            },
            "type": "scatterpolargl"
           }
          ],
          "scatterternary": [
           {
            "marker": {
             "colorbar": {
              "outlinewidth": 0,
              "ticks": ""
             }
            },
            "type": "scatterternary"
           }
          ],
          "surface": [
           {
            "colorbar": {
             "outlinewidth": 0,
             "ticks": ""
            },
            "colorscale": [
             [
              0,
              "#0d0887"
             ],
             [
              0.1111111111111111,
              "#46039f"
             ],
             [
              0.2222222222222222,
              "#7201a8"
             ],
             [
              0.3333333333333333,
              "#9c179e"
             ],
             [
              0.4444444444444444,
              "#bd3786"
             ],
             [
              0.5555555555555556,
              "#d8576b"
             ],
             [
              0.6666666666666666,
              "#ed7953"
             ],
             [
              0.7777777777777778,
              "#fb9f3a"
             ],
             [
              0.8888888888888888,
              "#fdca26"
             ],
             [
              1,
              "#f0f921"
             ]
            ],
            "type": "surface"
           }
          ],
          "table": [
           {
            "cells": {
             "fill": {
              "color": "#EBF0F8"
             },
             "line": {
              "color": "white"
             }
            },
            "header": {
             "fill": {
              "color": "#C8D4E3"
             },
             "line": {
              "color": "white"
             }
            },
            "type": "table"
           }
          ]
         },
         "layout": {
          "annotationdefaults": {
           "arrowcolor": "#2a3f5f",
           "arrowhead": 0,
           "arrowwidth": 1
          },
          "autotypenumbers": "strict",
          "coloraxis": {
           "colorbar": {
            "outlinewidth": 0,
            "ticks": ""
           }
          },
          "colorscale": {
           "diverging": [
            [
             0,
             "#8e0152"
            ],
            [
             0.1,
             "#c51b7d"
            ],
            [
             0.2,
             "#de77ae"
            ],
            [
             0.3,
             "#f1b6da"
            ],
            [
             0.4,
             "#fde0ef"
            ],
            [
             0.5,
             "#f7f7f7"
            ],
            [
             0.6,
             "#e6f5d0"
            ],
            [
             0.7,
             "#b8e186"
            ],
            [
             0.8,
             "#7fbc41"
            ],
            [
             0.9,
             "#4d9221"
            ],
            [
             1,
             "#276419"
            ]
           ],
           "sequential": [
            [
             0,
             "#0d0887"
            ],
            [
             0.1111111111111111,
             "#46039f"
            ],
            [
             0.2222222222222222,
             "#7201a8"
            ],
            [
             0.3333333333333333,
             "#9c179e"
            ],
            [
             0.4444444444444444,
             "#bd3786"
            ],
            [
             0.5555555555555556,
             "#d8576b"
            ],
            [
             0.6666666666666666,
             "#ed7953"
            ],
            [
             0.7777777777777778,
             "#fb9f3a"
            ],
            [
             0.8888888888888888,
             "#fdca26"
            ],
            [
             1,
             "#f0f921"
            ]
           ],
           "sequentialminus": [
            [
             0,
             "#0d0887"
            ],
            [
             0.1111111111111111,
             "#46039f"
            ],
            [
             0.2222222222222222,
             "#7201a8"
            ],
            [
             0.3333333333333333,
             "#9c179e"
            ],
            [
             0.4444444444444444,
             "#bd3786"
            ],
            [
             0.5555555555555556,
             "#d8576b"
            ],
            [
             0.6666666666666666,
             "#ed7953"
            ],
            [
             0.7777777777777778,
             "#fb9f3a"
            ],
            [
             0.8888888888888888,
             "#fdca26"
            ],
            [
             1,
             "#f0f921"
            ]
           ]
          },
          "colorway": [
           "#636efa",
           "#EF553B",
           "#00cc96",
           "#ab63fa",
           "#FFA15A",
           "#19d3f3",
           "#FF6692",
           "#B6E880",
           "#FF97FF",
           "#FECB52"
          ],
          "font": {
           "color": "#2a3f5f"
          },
          "geo": {
           "bgcolor": "white",
           "lakecolor": "white",
           "landcolor": "#E5ECF6",
           "showlakes": true,
           "showland": true,
           "subunitcolor": "white"
          },
          "hoverlabel": {
           "align": "left"
          },
          "hovermode": "closest",
          "mapbox": {
           "style": "light"
          },
          "paper_bgcolor": "white",
          "plot_bgcolor": "#E5ECF6",
          "polar": {
           "angularaxis": {
            "gridcolor": "white",
            "linecolor": "white",
            "ticks": ""
           },
           "bgcolor": "#E5ECF6",
           "radialaxis": {
            "gridcolor": "white",
            "linecolor": "white",
            "ticks": ""
           }
          },
          "scene": {
           "xaxis": {
            "backgroundcolor": "#E5ECF6",
            "gridcolor": "white",
            "gridwidth": 2,
            "linecolor": "white",
            "showbackground": true,
            "ticks": "",
            "zerolinecolor": "white"
           },
           "yaxis": {
            "backgroundcolor": "#E5ECF6",
            "gridcolor": "white",
            "gridwidth": 2,
            "linecolor": "white",
            "showbackground": true,
            "ticks": "",
            "zerolinecolor": "white"
           },
           "zaxis": {
            "backgroundcolor": "#E5ECF6",
            "gridcolor": "white",
            "gridwidth": 2,
            "linecolor": "white",
            "showbackground": true,
            "ticks": "",
            "zerolinecolor": "white"
           }
          },
          "shapedefaults": {
           "line": {
            "color": "#2a3f5f"
           }
          },
          "ternary": {
           "aaxis": {
            "gridcolor": "white",
            "linecolor": "white",
            "ticks": ""
           },
           "baxis": {
            "gridcolor": "white",
            "linecolor": "white",
            "ticks": ""
           },
           "bgcolor": "#E5ECF6",
           "caxis": {
            "gridcolor": "white",
            "linecolor": "white",
            "ticks": ""
           }
          },
          "title": {
           "x": 0.05
          },
          "xaxis": {
           "automargin": true,
           "gridcolor": "white",
           "linecolor": "white",
           "ticks": "",
           "title": {
            "standoff": 15
           },
           "zerolinecolor": "white",
           "zerolinewidth": 2
          },
          "yaxis": {
           "automargin": true,
           "gridcolor": "white",
           "linecolor": "white",
           "ticks": "",
           "title": {
            "standoff": 15
           },
           "zerolinecolor": "white",
           "zerolinewidth": 2
          }
         }
        },
        "title": {
         "text": "Accuracy Comparison"
        },
        "xaxis": {
         "anchor": "y",
         "domain": [
          0,
          1
         ],
         "title": {
          "text": "Model Type"
         }
        },
        "yaxis": {
         "anchor": "x",
         "domain": [
          0,
          1
         ],
         "title": {
          "text": "Accuracy"
         }
        }
       }
      }
     },
     "metadata": {},
     "output_type": "display_data"
    }
   ],
   "source": [
    "import plotly.express as px\n",
    "import pandas as pd\n",
    "\n",
    "# Prepare data for Plotly\n",
    "data = pd.DataFrame({\n",
    "    'Accuracy': good_accuracies + good_mutated_accuracies + bad_accuracies + bad_mutated_accuracies,\n",
    "    'Model': ['Bad model'] * len(good_accuracies) + ['Bad model mutated'] * len(good_mutated_accuracies) + ['Good model'] * len(bad_accuracies) + ['Good model mutated'] * len(bad_mutated_accuracies)\n",
    "})\n",
    "\n",
    "# Create the boxplot\n",
    "fig = px.box(data, x='Model', y='Accuracy', title='Accuracy Comparison', labels={'Accuracy': 'Accuracy', 'Model': 'Model Type'})\n",
    "fig.show()\n"
   ]
  },
  {
   "cell_type": "markdown",
   "metadata": {},
   "source": [
    "## Input output diversity \n",
    "Idea: equivalence partitioning"
   ]
  },
  {
   "cell_type": "code",
   "execution_count": null,
   "metadata": {},
   "outputs": [
    {
     "name": "stderr",
     "output_type": "stream",
     "text": [
      "/Users/luca/Desktop/TUDelft/Y2/DSAIT4015_SETAIS/ai_testing_group_20/aitesting/lib/python3.11/site-packages/sklearn/linear_model/_sag.py:350: ConvergenceWarning:\n",
      "\n",
      "The max_iter was reached which means the coef_ did not converge\n",
      "\n"
     ]
    },
    {
     "name": "stdout",
     "output_type": "stream",
     "text": [
      "Partition: No Children\n",
      "Number of data points: 9096\n",
      "Accuracy: 0.90\n",
      "True Positives (TP): 11\n",
      "False Positives (FP): 6\n",
      "True Negatives (TN): 8145\n",
      "False Negatives (FN): 934\n",
      "Partition: 1 Child\n",
      "Number of data points: 12658\n",
      "Accuracy: 0.84\n",
      "True Positives (TP): 28\n",
      "False Positives (FP): 13\n",
      "True Negatives (TN): 10580\n",
      "False Negatives (FN): 2037\n",
      "Partition: 2 Children\n",
      "Number of data points: 3782\n",
      "Accuracy: 0.79\n",
      "True Positives (TP): 12\n",
      "False Positives (FP): 9\n",
      "True Negatives (TN): 2994\n",
      "False Negatives (FN): 767\n",
      "Partition: 3+ Children\n",
      "Number of data points: 464\n",
      "Accuracy: 0.80\n",
      "True Positives (TP): 3\n",
      "False Positives (FP): 3\n",
      "True Negatives (TN): 368\n",
      "False Negatives (FN): 90\n",
      "For other model:\n",
      "Partition: No Children\n",
      "Number of data points: 9096\n",
      "Accuracy: 1.00\n",
      "True Positives (TP): 945\n",
      "False Positives (FP): 0\n",
      "True Negatives (TN): 8151\n",
      "False Negatives (FN): 0\n",
      "Partition: 1 Child\n",
      "Number of data points: 12658\n",
      "Accuracy: 1.00\n",
      "True Positives (TP): 2065\n",
      "False Positives (FP): 0\n",
      "True Negatives (TN): 10593\n",
      "False Negatives (FN): 0\n",
      "Partition: 2 Children\n",
      "Number of data points: 3782\n",
      "Accuracy: 1.00\n",
      "True Positives (TP): 779\n",
      "False Positives (FP): 0\n",
      "True Negatives (TN): 3003\n",
      "False Negatives (FN): 0\n",
      "Partition: 3+ Children\n",
      "Number of data points: 464\n",
      "Accuracy: 1.00\n",
      "True Positives (TP): 93\n",
      "False Positives (FP): 0\n",
      "True Negatives (TN): 371\n",
      "False Negatives (FN): 0\n"
     ]
    }
   ],
   "source": [
    "# Define equivalent partitions\n",
    "partitions = [\n",
    "    {\"name\": \"No Children\", \"condition\": lambda df: df['relatie_kind_huidige_aantal'] < 1},\n",
    "    {\"name\": \"1 Child\", \"condition\": lambda df: (df['relatie_kind_huidige_aantal'] >= 1) & (\n",
    "                df['relatie_kind_huidige_aantal'] <= 1)},\n",
    "    {\"name\": \"2 Children\", \"condition\": lambda df: (df['relatie_kind_huidige_aantal'] >= 2) & (\n",
    "                df['relatie_kind_huidige_aantal'] <= 2)},\n",
    "    {\"name\": \"3+ Children\", \"condition\": lambda df: df['relatie_kind_huidige_aantal'] > 2},\n",
    "]\n",
    "X_train, X_test, y_train, y_test = train_test_split(X, y, test_size=0.2, random_state=42)\n",
    "model = LogisticRegression(random_state=run,solver='sag')  \n",
    "model.fit(X_train,y_train) \n",
    "# Apply equivalent partitioning\n",
    "for partition in partitions:\n",
    "    partition_data = X_test[partition[\"condition\"](X_test)]\n",
    "    partition_indices = partition_data.index  # Get the indices of the partition\n",
    "    partition_labels = y_test.loc[partition_indices]  # Get the actual labels for the partition\n",
    "\n",
    "    if not partition_data.empty:\n",
    "        # Predictions using the model\n",
    "        predictions = model.predict(partition_data)\n",
    "        # Calculate accuracy for this partition\n",
    "        accuracy = accuracy_score(partition_labels, predictions)\n",
    "        tn, fp, fn, tp = confusion_matrix(partition_labels, predictions).ravel()\n",
    "\n",
    "        print(f\"Partition: {partition['name']}\")\n",
    "        print(f\"Number of data points: {len(partition_data)}\")\n",
    "        print(f\"Accuracy: {accuracy:.2f}\")\n",
    "        print(f\"True Positives (TP): {tp}\")\n",
    "        print(f\"False Positives (FP): {fp}\")\n",
    "        print(f\"True Negatives (TN): {tn}\")\n",
    "        print(f\"False Negatives (FN): {fn}\")\n",
    "\n",
    "print(\"For other model:\")\n",
    "model =  GradientBoostingClassifier(n_estimators=100, learning_rate=1, max_depth=1, random_state=42) \n",
    "model.fit(X_train,y_train) \n",
    "# Apply equivalent partitioning\n",
    "for partition in partitions:\n",
    "    partition_data = X_test[partition[\"condition\"](X_test)]\n",
    "    partition_indices = partition_data.index  # Get the indices of the partition\n",
    "    partition_labels = y_test.loc[partition_indices]  # Get the actual labels for the partition\n",
    "\n",
    "    if not partition_data.empty:\n",
    "        # Predictions using the model\n",
    "        predictions = model.predict(partition_data)\n",
    "        # Calculate accuracy for this partition\n",
    "        accuracy = accuracy_score(partition_labels, predictions)\n",
    "        tn, fp, fn, tp = confusion_matrix(partition_labels, predictions).ravel()\n",
    "\n",
    "        print(f\"Partition: {partition['name']}\")\n",
    "        print(f\"Number of data points: {len(partition_data)}\")\n",
    "        print(f\"Accuracy: {accuracy:.2f}\")\n",
    "        print(f\"True Positives (TP): {tp}\")\n",
    "        print(f\"False Positives (FP): {fp}\")\n",
    "        print(f\"True Negatives (TN): {tn}\")\n",
    "        print(f\"False Negatives (FN): {fn}\")"
   ]
  },
  {
   "cell_type": "markdown",
   "metadata": {},
   "source": [
    "## Differentiation testing\n",
    "outliers"
   ]
  },
  {
   "cell_type": "code",
   "execution_count": 6,
   "metadata": {},
   "outputs": [
    {
     "name": "stdout",
     "output_type": "stream",
     "text": [
      "This is before introducing outliers\n",
      "\n"
     ]
    },
    {
     "name": "stderr",
     "output_type": "stream",
     "text": [
      "/Users/luca/Desktop/TUDelft/Y2/DSAIT4015_SETAIS/ai_testing_group_20/aitesting/lib/python3.11/site-packages/sklearn/linear_model/_sag.py:350: ConvergenceWarning: The max_iter was reached which means the coef_ did not converge\n",
      "  warnings.warn(\n"
     ]
    },
    {
     "name": "stdout",
     "output_type": "stream",
     "text": [
      "Accuracy: 0.85\n",
      "True Positives (TP): 65\n",
      "False Positives (FP): 35\n",
      "True Negatives (TN): 21994\n",
      "False Negatives (FN): 3906 \n",
      "\n",
      "For other model:\n",
      "Accuracy: 1.00\n",
      "True Positives (TP): 3971\n",
      "False Positives (FP): 0\n",
      "True Negatives (TN): 22029\n",
      "False Negatives (FN): 0\n",
      "This is after introducing outliers: \n",
      "\n",
      "Adding outliers to:  ['contacten_soort_document__uitgaand_', 'afspraak_aantal_woorden', 'persoon_leeftijd_bij_onderzoek', 'relatie_kind_leeftijd_verschil_ouder_eerste_kind', 'persoonlijke_eigenschappen_spreektaal']\n"
     ]
    },
    {
     "name": "stderr",
     "output_type": "stream",
     "text": [
      "/Users/luca/Desktop/TUDelft/Y2/DSAIT4015_SETAIS/ai_testing_group_20/aitesting/lib/python3.11/site-packages/sklearn/linear_model/_sag.py:350: ConvergenceWarning: The max_iter was reached which means the coef_ did not converge\n",
      "  warnings.warn(\n"
     ]
    },
    {
     "name": "stdout",
     "output_type": "stream",
     "text": [
      "Accuracy: 0.84\n",
      "True Positives (TP): 162\n",
      "False Positives (FP): 249\n",
      "True Negatives (TN): 21780\n",
      "False Negatives (FN): 3809\n",
      "-------------------------------\n",
      "For other model:\n",
      "Accuracy: 1.00\n",
      "True Positives (TP): 3971\n",
      "False Positives (FP): 0\n",
      "True Negatives (TN): 22029\n",
      "False Negatives (FN): 0\n"
     ]
    }
   ],
   "source": [
    "X_train, X_test, y_train, y_test = train_test_split(X, y, test_size=0.2, random_state=42)\n",
    "\n",
    "print(\"This is before introducing outliers\\n\")\n",
    "\n",
    "modelOne = LogisticRegression(random_state=42,solver='sag')  \n",
    "modelOne.fit(X_train,y_train) \n",
    "\n",
    "predictionsOne = modelOne.predict(X_test)\n",
    "accuracyOne = accuracy_score(y_test, predictionsOne)\n",
    "tno, fpo, fno, tpo = confusion_matrix(y_test, predictionsOne).ravel()\n",
    "\n",
    "print(f\"Accuracy: {accuracyOne:.2f}\")\n",
    "print(f\"True Positives (TP): {tpo}\")\n",
    "print(f\"False Positives (FP): {fpo}\")\n",
    "print(f\"True Negatives (TN): {tno}\")\n",
    "print(f\"False Negatives (FN): {fno} \\n\")\n",
    "print(\"For other model:\")\n",
    "modelTwo =  GradientBoostingClassifier(n_estimators=100, learning_rate=1, max_depth=1, random_state=42) \n",
    "modelTwo.fit(X_train,y_train) \n",
    "\n",
    "predictionsTwo = modelTwo.predict(X_test)\n",
    "accuracyTwo = accuracy_score(y_test, predictionsTwo)\n",
    "tnt, fpt, fnt, tpt = confusion_matrix(y_test, predictionsTwo).ravel()\n",
    "\n",
    "print(f\"Accuracy: {accuracyTwo:.2f}\")\n",
    "print(f\"True Positives (TP): {tpt}\")\n",
    "print(f\"False Positives (FP): {fpt}\")\n",
    "print(f\"True Negatives (TN): {tnt}\")\n",
    "print(f\"False Negatives (FN): {fnt}\")\n",
    "\n",
    "print(\"This is after introducing outliers: \\n\")\n",
    "\n",
    "X_train, X_test, y_train, y_test = train_test_split(X, y, test_size=0.2, random_state=42)\n",
    "\n",
    "outlier_percentage = 0.20  \n",
    "num_outliers = int(outlier_percentage * len(X_test))\n",
    "# features_to_modify = [np.random.choice(X_test.columns, size=10, replace=False)] \n",
    "features_to_modify = ['contacten_soort_document__uitgaand_' , 'afspraak_aantal_woorden' ,'persoon_leeftijd_bij_onderzoek','relatie_kind_leeftijd_verschil_ouder_eerste_kind','persoonlijke_eigenschappen_spreektaal']\n",
    "print(\"Adding outliers to: \", features_to_modify)\n",
    "outlier_indices = np.random.choice(X_test.index, size=num_outliers, replace=False)\n",
    "\n",
    "for feature in features_to_modify:\n",
    "    X_test.loc[outlier_indices, feature] += np.random.choice([-100, 100], size=num_outliers)\n",
    "\n",
    "\n",
    "modelOne = LogisticRegression(random_state=42,solver='sag')  \n",
    "modelOne.fit(X_train,y_train) \n",
    "\n",
    "predictionsOne = modelOne.predict(X_test)\n",
    "accuracyOne = accuracy_score(y_test, predictionsOne)\n",
    "tno, fpo, fno, tpo = confusion_matrix(y_test, predictionsOne).ravel()\n",
    "\n",
    "print(f\"Accuracy: {accuracyOne:.2f}\")\n",
    "print(f\"True Positives (TP): {tpo}\")\n",
    "print(f\"False Positives (FP): {fpo}\")\n",
    "print(f\"True Negatives (TN): {tno}\")\n",
    "print(f\"False Negatives (FN): {fno}\")\n",
    "print(\"-------------------------------\")\n",
    "print(\"For other model:\")\n",
    "modelTwo =  GradientBoostingClassifier(n_estimators=100, learning_rate=1, max_depth=1, random_state=42) \n",
    "modelTwo.fit(X_train,y_train) \n",
    "\n",
    "predictionsTwo = modelTwo.predict(X_test)\n",
    "accuracyTwo = accuracy_score(y_test, predictionsTwo)\n",
    "tnt, fpt, fnt, tpt = confusion_matrix(y_test, predictionsTwo).ravel()\n",
    "\n",
    "print(f\"Accuracy: {accuracyTwo:.2f}\")\n",
    "print(f\"True Positives (TP): {tpt}\")\n",
    "print(f\"False Positives (FP): {fpt}\")\n",
    "print(f\"True Negatives (TN): {tnt}\")\n",
    "print(f\"False Negatives (FN): {fnt}\")"
   ]
  },
  {
   "cell_type": "code",
   "execution_count": null,
   "metadata": {},
   "outputs": [],
   "source": []
  }
 ],
 "metadata": {
  "kernelspec": {
   "display_name": "aitesting",
   "language": "python",
   "name": "python3"
  },
  "language_info": {
   "codemirror_mode": {
    "name": "ipython",
    "version": 3
   },
   "file_extension": ".py",
   "mimetype": "text/x-python",
   "name": "python",
   "nbconvert_exporter": "python",
   "pygments_lexer": "ipython3",
   "version": "3.11.10"
  }
 },
 "nbformat": 4,
 "nbformat_minor": 2
}
