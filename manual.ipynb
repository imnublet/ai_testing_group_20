{
 "cells": [
  {
   "cell_type": "code",
   "execution_count": 5,
   "id": "initial_id",
   "metadata": {
    "ExecuteTime": {
     "end_time": "2024-12-19T20:49:57.980776Z",
     "start_time": "2024-12-19T20:49:57.265731Z"
    },
    "collapsed": true,
    "pycharm": {
     "name": "#%%\n"
    }
   },
   "outputs": [],
   "source": [
    "import pandas as pd\n",
    "import numpy as np\n",
    "import onnxruntime\n",
    "from sklearn.metrics import accuracy_score\n",
    "\n",
    "class OnnxModelWrapper:\n",
    "    \"\"\"The wrapper allows to use ONNX models in the same way as sklearn models\"\"\"\n",
    "\n",
    "    def __init__(self, model_path):\n",
    "        try:\n",
    "            self._session = onnxruntime.InferenceSession(model_path)\n",
    "        except:\n",
    "            raise Exception(\"Model not found at the specified path: {}\".format(model_path))\n",
    "\n",
    "    def predict(self, X):\n",
    "        results = self._run_model(X)\n",
    "        return np.array(results[0])\n",
    "\n",
    "    def _run_model(self, X):\n",
    "        if isinstance(X, pd.DataFrame):\n",
    "            return self._session.run(None, {'X': X.values.astype(np.float32)})\n",
    "        else:\n",
    "            return self._session.run(None, {'X': X.reshape(1, -1).astype(np.float32)})"
   ]
  },
  {
   "cell_type": "code",
   "execution_count": 6,
   "id": "2f2b55c9593a8880",
   "metadata": {
    "ExecuteTime": {
     "end_time": "2024-12-19T20:50:24.233880Z",
     "start_time": "2024-12-19T20:50:22.829556Z"
    },
    "pycharm": {
     "name": "#%%\n"
    }
   },
   "outputs": [
    {
     "name": "stdout",
     "output_type": "stream",
     "text": [
      "accuracy: 0.927\n"
     ]
    }
   ],
   "source": [
    "DATASET_PATH = 'data\\investigation_train_large_checked.csv' # original file from Brightspace, no changes\n",
    "MODEL_PATH = 'model.onnx'\n",
    "\n",
    "data = pd.read_csv(DATASET_PATH)\n",
    "X = data.drop(columns=['Ja', 'Nee', 'checked'])\n",
    "y = data['checked']\n",
    "\n",
    "model = OnnxModelWrapper(\"model_2\\model_2.onnx\")\n",
    "\n",
    "y_predicted = model.predict(X)\n",
    "\n",
    "accuracy = accuracy_score(y, y_predicted)\n",
    "print(f\"accuracy: {accuracy:.3f}\")"
   ]
  }
 ],
 "metadata": {
  "kernelspec": {
   "display_name": "Python 3",
   "language": "python",
   "name": "python3"
  },
  "language_info": {
   "codemirror_mode": {
    "name": "ipython",
    "version": 2
   },
   "file_extension": ".py",
   "mimetype": "text/x-python",
   "name": "python",
   "nbconvert_exporter": "python",
   "pygments_lexer": "ipython2",
   "version": "2.7.6"
  }
 },
 "nbformat": 4,
 "nbformat_minor": 5
}