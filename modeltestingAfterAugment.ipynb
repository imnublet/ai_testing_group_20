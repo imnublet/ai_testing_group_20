{
 "cells": [
  {
   "cell_type": "code",
   "execution_count": 1,
   "metadata": {},
   "outputs": [
    {
     "name": "stderr",
     "output_type": "stream",
     "text": [
      "/var/folders/hz/8qhn2dwn2zs419cpd7l0w6q40000gn/T/ipykernel_95190/3613560875.py:4: DeprecationWarning: \n",
      "Pyarrow will become a required dependency of pandas in the next major release of pandas (pandas 3.0),\n",
      "(to allow more performant data types, such as the Arrow string type, and better interoperability with other libraries)\n",
      "but was not found to be installed on your system.\n",
      "If this would cause problems for you,\n",
      "please provide us feedback at https://github.com/pandas-dev/pandas/issues/54466\n",
      "        \n",
      "  import pandas as pd\n"
     ]
    },
    {
     "name": "stdout",
     "output_type": "stream",
     "text": [
      "315\n",
      "20\n",
      "37\n",
      "23\n",
      "26\n"
     ]
    }
   ],
   "source": [
    "import onnxruntime as rt\n",
    "from sklearn.metrics import accuracy_score\n",
    "from scipy.stats import wilcoxon\n",
    "import pandas as pd\n",
    "import numpy as np\n",
    "from testing import *\n",
    "from goodModel import drop_personality_columns,drop_taaleis_columns\n"
   ]
  },
  {
   "cell_type": "code",
   "execution_count": 2,
   "metadata": {},
   "outputs": [
    {
     "name": "stdout",
     "output_type": "stream",
     "text": [
      "Starting data augmentation\n",
      "Data augmentation dropping personality columns complete\n",
      "Data augmentation dropping taaleis complete\n"
     ]
    }
   ],
   "source": [
    "# First we load the models and the data \n",
    "data = pd.read_csv('data/investigation_train_large_checked.csv')\n",
    "y = data['checked']\n",
    "X = data.drop(['checked', 'Ja', 'Nee'], axis=1)\n",
    "X = X.astype(np.float32)\n",
    "\n",
    "\n",
    "df = pd.read_csv('data/investigation_train_large_checked.csv')\n",
    "\n",
    "def modify_data(df):\n",
    "    print(\"Starting data augmentation\")\n",
    "\n",
    "    df = drop_personality_columns(df)\n",
    "    print(\"Data augmentation dropping personality columns complete\")\n",
    "    df = drop_taaleis_columns(df)\n",
    "    print(\"Data augmentation dropping taaleis complete\")\n",
    "    return df\n",
    "data2 = modify_data(df)\n",
    "\n",
    "# Let's specify the features and the target\n",
    "y2 = data2['checked']\n",
    "X2 = data2.drop(['checked', 'Ja', 'Nee'], axis=1)\n",
    "X2 = X2.astype(np.float32)\n",
    "\n",
    "\n",
    "model1 = rt.InferenceSession(\"model/model_1.onnx\")\n",
    "model2 = rt.InferenceSession(\"model/model_2.onnx\")\n"
   ]
  },
  {
   "cell_type": "markdown",
   "metadata": {},
   "source": [
    "# Mutation testing"
   ]
  },
  {
   "cell_type": "code",
   "execution_count": 3,
   "metadata": {},
   "outputs": [
    {
     "name": "stdout",
     "output_type": "stream",
     "text": [
      "\n",
      "Run 1/10\n",
      "Initial accuracy: 0.8871 for model\n",
      "Model Accuracy altered: 0.4990\n",
      "\n",
      "Run 2/10\n",
      "Initial accuracy: 0.8838 for model\n",
      "Model Accuracy altered: 0.4996\n",
      "\n",
      "Run 3/10\n",
      "Initial accuracy: 0.8857 for model\n",
      "Model Accuracy altered: 0.4970\n",
      "\n",
      "Run 4/10\n",
      "Initial accuracy: 0.8887 for model\n",
      "Model Accuracy altered: 0.4972\n",
      "\n",
      "Run 5/10\n",
      "Initial accuracy: 0.8858 for model\n",
      "Model Accuracy altered: 0.4986\n",
      "\n",
      "Run 6/10\n",
      "Initial accuracy: 0.8871 for model\n",
      "Model Accuracy altered: 0.5021\n",
      "\n",
      "Run 7/10\n",
      "Initial accuracy: 0.8868 for model\n",
      "Model Accuracy altered: 0.4994\n",
      "\n",
      "Run 8/10\n",
      "Initial accuracy: 0.8909 for model\n",
      "Model Accuracy altered: 0.4966\n",
      "\n",
      "Run 9/10\n",
      "Initial accuracy: 0.8852 for model\n",
      "Model Accuracy altered: 0.5003\n",
      "\n",
      "Run 10/10\n",
      "Initial accuracy: 0.8868 for model\n",
      "Model Accuracy altered: 0.5023\n",
      "\n",
      "Run 1/10\n",
      "Initial accuracy: 0.9873 for model\n",
      "Model Accuracy altered: 0.7208\n",
      "\n",
      "Run 2/10\n",
      "Initial accuracy: 0.9877 for model\n",
      "Model Accuracy altered: 0.7145\n",
      "\n",
      "Run 3/10\n",
      "Initial accuracy: 0.9866 for model\n",
      "Model Accuracy altered: 0.7168\n",
      "\n",
      "Run 4/10\n",
      "Initial accuracy: 0.9878 for model\n",
      "Model Accuracy altered: 0.7202\n",
      "\n",
      "Run 5/10\n",
      "Initial accuracy: 0.9860 for model\n",
      "Model Accuracy altered: 0.7163\n",
      "\n",
      "Run 6/10\n",
      "Initial accuracy: 0.9872 for model\n",
      "Model Accuracy altered: 0.7174\n",
      "\n",
      "Run 7/10\n",
      "Initial accuracy: 0.9878 for model\n",
      "Model Accuracy altered: 0.7206\n",
      "\n",
      "Run 8/10\n",
      "Initial accuracy: 0.9877 for model\n",
      "Model Accuracy altered: 0.7216\n",
      "\n",
      "Run 9/10\n",
      "Initial accuracy: 0.9880 for model\n",
      "Model Accuracy altered: 0.7226\n",
      "\n",
      "Run 10/10\n",
      "Initial accuracy: 0.9867 for model\n",
      "Model Accuracy altered: 0.7165\n"
     ]
    },
    {
     "data": {
      "application/vnd.plotly.v1+json": {
       "config": {
        "plotlyServerURL": "https://plot.ly"
       },
       "data": [
        {
         "alignmentgroup": "True",
         "hovertemplate": "Model Type=%{x}<br>Accuracy=%{y}<extra></extra>",
         "legendgroup": "",
         "marker": {
          "color": "#636efa"
         },
         "name": "",
         "notched": false,
         "offsetgroup": "",
         "orientation": "v",
         "showlegend": false,
         "type": "box",
         "x": [
          "Model 1",
          "Model 1",
          "Model 1",
          "Model 1",
          "Model 1",
          "Model 1",
          "Model 1",
          "Model 1",
          "Model 1",
          "Model 1",
          "Model 1 Mutated",
          "Model 1 Mutated",
          "Model 1 Mutated",
          "Model 1 Mutated",
          "Model 1 Mutated",
          "Model 1 Mutated",
          "Model 1 Mutated",
          "Model 1 Mutated",
          "Model 1 Mutated",
          "Model 1 Mutated",
          "Model 2 ",
          "Model 2 ",
          "Model 2 ",
          "Model 2 ",
          "Model 2 ",
          "Model 2 ",
          "Model 2 ",
          "Model 2 ",
          "Model 2 ",
          "Model 2 ",
          "Model 2 Mutated",
          "Model 2 Mutated",
          "Model 2 Mutated",
          "Model 2 Mutated",
          "Model 2 Mutated",
          "Model 2 Mutated",
          "Model 2 Mutated",
          "Model 2 Mutated",
          "Model 2 Mutated",
          "Model 2 Mutated"
         ],
         "x0": " ",
         "xaxis": "x",
         "y": [
          0.8871153846153846,
          0.8838461538461538,
          0.8856923076923077,
          0.8887307692307692,
          0.8857692307692308,
          0.8871153846153846,
          0.8867692307692308,
          0.8909230769230769,
          0.8852307692307693,
          0.8868461538461538,
          0.499,
          0.49961538461538463,
          0.497,
          0.49715384615384617,
          0.4986153846153846,
          0.5021153846153846,
          0.49938461538461537,
          0.4966153846153846,
          0.5003461538461539,
          0.5023461538461539,
          0.9873461538461539,
          0.9876538461538461,
          0.9866153846153846,
          0.9878461538461538,
          0.9859615384615384,
          0.9871538461538462,
          0.9877692307692307,
          0.9876923076923076,
          0.9879615384615384,
          0.9867307692307692,
          0.7207692307692307,
          0.7145384615384616,
          0.7167692307692307,
          0.7202307692307692,
          0.7162692307692308,
          0.7174230769230769,
          0.7205769230769231,
          0.7216153846153847,
          0.7226153846153847,
          0.7165
         ],
         "y0": " ",
         "yaxis": "y"
        }
       ],
       "layout": {
        "boxmode": "group",
        "legend": {
         "tracegroupgap": 0
        },
        "template": {
         "data": {
          "bar": [
           {
            "error_x": {
             "color": "#2a3f5f"
            },
            "error_y": {
             "color": "#2a3f5f"
            },
            "marker": {
             "line": {
              "color": "#E5ECF6",
              "width": 0.5
             },
             "pattern": {
              "fillmode": "overlay",
              "size": 10,
              "solidity": 0.2
             }
            },
            "type": "bar"
           }
          ],
          "barpolar": [
           {
            "marker": {
             "line": {
              "color": "#E5ECF6",
              "width": 0.5
             },
             "pattern": {
              "fillmode": "overlay",
              "size": 10,
              "solidity": 0.2
             }
            },
            "type": "barpolar"
           }
          ],
          "carpet": [
           {
            "aaxis": {
             "endlinecolor": "#2a3f5f",
             "gridcolor": "white",
             "linecolor": "white",
             "minorgridcolor": "white",
             "startlinecolor": "#2a3f5f"
            },
            "baxis": {
             "endlinecolor": "#2a3f5f",
             "gridcolor": "white",
             "linecolor": "white",
             "minorgridcolor": "white",
             "startlinecolor": "#2a3f5f"
            },
            "type": "carpet"
           }
          ],
          "choropleth": [
           {
            "colorbar": {
             "outlinewidth": 0,
             "ticks": ""
            },
            "type": "choropleth"
           }
          ],
          "contour": [
           {
            "colorbar": {
             "outlinewidth": 0,
             "ticks": ""
            },
            "colorscale": [
             [
              0,
              "#0d0887"
             ],
             [
              0.1111111111111111,
              "#46039f"
             ],
             [
              0.2222222222222222,
              "#7201a8"
             ],
             [
              0.3333333333333333,
              "#9c179e"
             ],
             [
              0.4444444444444444,
              "#bd3786"
             ],
             [
              0.5555555555555556,
              "#d8576b"
             ],
             [
              0.6666666666666666,
              "#ed7953"
             ],
             [
              0.7777777777777778,
              "#fb9f3a"
             ],
             [
              0.8888888888888888,
              "#fdca26"
             ],
             [
              1,
              "#f0f921"
             ]
            ],
            "type": "contour"
           }
          ],
          "contourcarpet": [
           {
            "colorbar": {
             "outlinewidth": 0,
             "ticks": ""
            },
            "type": "contourcarpet"
           }
          ],
          "heatmap": [
           {
            "colorbar": {
             "outlinewidth": 0,
             "ticks": ""
            },
            "colorscale": [
             [
              0,
              "#0d0887"
             ],
             [
              0.1111111111111111,
              "#46039f"
             ],
             [
              0.2222222222222222,
              "#7201a8"
             ],
             [
              0.3333333333333333,
              "#9c179e"
             ],
             [
              0.4444444444444444,
              "#bd3786"
             ],
             [
              0.5555555555555556,
              "#d8576b"
             ],
             [
              0.6666666666666666,
              "#ed7953"
             ],
             [
              0.7777777777777778,
              "#fb9f3a"
             ],
             [
              0.8888888888888888,
              "#fdca26"
             ],
             [
              1,
              "#f0f921"
             ]
            ],
            "type": "heatmap"
           }
          ],
          "heatmapgl": [
           {
            "colorbar": {
             "outlinewidth": 0,
             "ticks": ""
            },
            "colorscale": [
             [
              0,
              "#0d0887"
             ],
             [
              0.1111111111111111,
              "#46039f"
             ],
             [
              0.2222222222222222,
              "#7201a8"
             ],
             [
              0.3333333333333333,
              "#9c179e"
             ],
             [
              0.4444444444444444,
              "#bd3786"
             ],
             [
              0.5555555555555556,
              "#d8576b"
             ],
             [
              0.6666666666666666,
              "#ed7953"
             ],
             [
              0.7777777777777778,
              "#fb9f3a"
             ],
             [
              0.8888888888888888,
              "#fdca26"
             ],
             [
              1,
              "#f0f921"
             ]
            ],
            "type": "heatmapgl"
           }
          ],
          "histogram": [
           {
            "marker": {
             "pattern": {
              "fillmode": "overlay",
              "size": 10,
              "solidity": 0.2
             }
            },
            "type": "histogram"
           }
          ],
          "histogram2d": [
           {
            "colorbar": {
             "outlinewidth": 0,
             "ticks": ""
            },
            "colorscale": [
             [
              0,
              "#0d0887"
             ],
             [
              0.1111111111111111,
              "#46039f"
             ],
             [
              0.2222222222222222,
              "#7201a8"
             ],
             [
              0.3333333333333333,
              "#9c179e"
             ],
             [
              0.4444444444444444,
              "#bd3786"
             ],
             [
              0.5555555555555556,
              "#d8576b"
             ],
             [
              0.6666666666666666,
              "#ed7953"
             ],
             [
              0.7777777777777778,
              "#fb9f3a"
             ],
             [
              0.8888888888888888,
              "#fdca26"
             ],
             [
              1,
              "#f0f921"
             ]
            ],
            "type": "histogram2d"
           }
          ],
          "histogram2dcontour": [
           {
            "colorbar": {
             "outlinewidth": 0,
             "ticks": ""
            },
            "colorscale": [
             [
              0,
              "#0d0887"
             ],
             [
              0.1111111111111111,
              "#46039f"
             ],
             [
              0.2222222222222222,
              "#7201a8"
             ],
             [
              0.3333333333333333,
              "#9c179e"
             ],
             [
              0.4444444444444444,
              "#bd3786"
             ],
             [
              0.5555555555555556,
              "#d8576b"
             ],
             [
              0.6666666666666666,
              "#ed7953"
             ],
             [
              0.7777777777777778,
              "#fb9f3a"
             ],
             [
              0.8888888888888888,
              "#fdca26"
             ],
             [
              1,
              "#f0f921"
             ]
            ],
            "type": "histogram2dcontour"
           }
          ],
          "mesh3d": [
           {
            "colorbar": {
             "outlinewidth": 0,
             "ticks": ""
            },
            "type": "mesh3d"
           }
          ],
          "parcoords": [
           {
            "line": {
             "colorbar": {
              "outlinewidth": 0,
              "ticks": ""
             }
            },
            "type": "parcoords"
           }
          ],
          "pie": [
           {
            "automargin": true,
            "type": "pie"
           }
          ],
          "scatter": [
           {
            "fillpattern": {
             "fillmode": "overlay",
             "size": 10,
             "solidity": 0.2
            },
            "type": "scatter"
           }
          ],
          "scatter3d": [
           {
            "line": {
             "colorbar": {
              "outlinewidth": 0,
              "ticks": ""
             }
            },
            "marker": {
             "colorbar": {
              "outlinewidth": 0,
              "ticks": ""
             }
            },
            "type": "scatter3d"
           }
          ],
          "scattercarpet": [
           {
            "marker": {
             "colorbar": {
              "outlinewidth": 0,
              "ticks": ""
             }
            },
            "type": "scattercarpet"
           }
          ],
          "scattergeo": [
           {
            "marker": {
             "colorbar": {
              "outlinewidth": 0,
              "ticks": ""
             }
            },
            "type": "scattergeo"
           }
          ],
          "scattergl": [
           {
            "marker": {
             "colorbar": {
              "outlinewidth": 0,
              "ticks": ""
             }
            },
            "type": "scattergl"
           }
          ],
          "scattermapbox": [
           {
            "marker": {
             "colorbar": {
              "outlinewidth": 0,
              "ticks": ""
             }
            },
            "type": "scattermapbox"
           }
          ],
          "scatterpolar": [
           {
            "marker": {
             "colorbar": {
              "outlinewidth": 0,
              "ticks": ""
             }
            },
            "type": "scatterpolar"
           }
          ],
          "scatterpolargl": [
           {
            "marker": {
             "colorbar": {
              "outlinewidth": 0,
              "ticks": ""
             }
            },
            "type": "scatterpolargl"
           }
          ],
          "scatterternary": [
           {
            "marker": {
             "colorbar": {
              "outlinewidth": 0,
              "ticks": ""
             }
            },
            "type": "scatterternary"
           }
          ],
          "surface": [
           {
            "colorbar": {
             "outlinewidth": 0,
             "ticks": ""
            },
            "colorscale": [
             [
              0,
              "#0d0887"
             ],
             [
              0.1111111111111111,
              "#46039f"
             ],
             [
              0.2222222222222222,
              "#7201a8"
             ],
             [
              0.3333333333333333,
              "#9c179e"
             ],
             [
              0.4444444444444444,
              "#bd3786"
             ],
             [
              0.5555555555555556,
              "#d8576b"
             ],
             [
              0.6666666666666666,
              "#ed7953"
             ],
             [
              0.7777777777777778,
              "#fb9f3a"
             ],
             [
              0.8888888888888888,
              "#fdca26"
             ],
             [
              1,
              "#f0f921"
             ]
            ],
            "type": "surface"
           }
          ],
          "table": [
           {
            "cells": {
             "fill": {
              "color": "#EBF0F8"
             },
             "line": {
              "color": "white"
             }
            },
            "header": {
             "fill": {
              "color": "#C8D4E3"
             },
             "line": {
              "color": "white"
             }
            },
            "type": "table"
           }
          ]
         },
         "layout": {
          "annotationdefaults": {
           "arrowcolor": "#2a3f5f",
           "arrowhead": 0,
           "arrowwidth": 1
          },
          "autotypenumbers": "strict",
          "coloraxis": {
           "colorbar": {
            "outlinewidth": 0,
            "ticks": ""
           }
          },
          "colorscale": {
           "diverging": [
            [
             0,
             "#8e0152"
            ],
            [
             0.1,
             "#c51b7d"
            ],
            [
             0.2,
             "#de77ae"
            ],
            [
             0.3,
             "#f1b6da"
            ],
            [
             0.4,
             "#fde0ef"
            ],
            [
             0.5,
             "#f7f7f7"
            ],
            [
             0.6,
             "#e6f5d0"
            ],
            [
             0.7,
             "#b8e186"
            ],
            [
             0.8,
             "#7fbc41"
            ],
            [
             0.9,
             "#4d9221"
            ],
            [
             1,
             "#276419"
            ]
           ],
           "sequential": [
            [
             0,
             "#0d0887"
            ],
            [
             0.1111111111111111,
             "#46039f"
            ],
            [
             0.2222222222222222,
             "#7201a8"
            ],
            [
             0.3333333333333333,
             "#9c179e"
            ],
            [
             0.4444444444444444,
             "#bd3786"
            ],
            [
             0.5555555555555556,
             "#d8576b"
            ],
            [
             0.6666666666666666,
             "#ed7953"
            ],
            [
             0.7777777777777778,
             "#fb9f3a"
            ],
            [
             0.8888888888888888,
             "#fdca26"
            ],
            [
             1,
             "#f0f921"
            ]
           ],
           "sequentialminus": [
            [
             0,
             "#0d0887"
            ],
            [
             0.1111111111111111,
             "#46039f"
            ],
            [
             0.2222222222222222,
             "#7201a8"
            ],
            [
             0.3333333333333333,
             "#9c179e"
            ],
            [
             0.4444444444444444,
             "#bd3786"
            ],
            [
             0.5555555555555556,
             "#d8576b"
            ],
            [
             0.6666666666666666,
             "#ed7953"
            ],
            [
             0.7777777777777778,
             "#fb9f3a"
            ],
            [
             0.8888888888888888,
             "#fdca26"
            ],
            [
             1,
             "#f0f921"
            ]
           ]
          },
          "colorway": [
           "#636efa",
           "#EF553B",
           "#00cc96",
           "#ab63fa",
           "#FFA15A",
           "#19d3f3",
           "#FF6692",
           "#B6E880",
           "#FF97FF",
           "#FECB52"
          ],
          "font": {
           "color": "#2a3f5f"
          },
          "geo": {
           "bgcolor": "white",
           "lakecolor": "white",
           "landcolor": "#E5ECF6",
           "showlakes": true,
           "showland": true,
           "subunitcolor": "white"
          },
          "hoverlabel": {
           "align": "left"
          },
          "hovermode": "closest",
          "mapbox": {
           "style": "light"
          },
          "paper_bgcolor": "white",
          "plot_bgcolor": "#E5ECF6",
          "polar": {
           "angularaxis": {
            "gridcolor": "white",
            "linecolor": "white",
            "ticks": ""
           },
           "bgcolor": "#E5ECF6",
           "radialaxis": {
            "gridcolor": "white",
            "linecolor": "white",
            "ticks": ""
           }
          },
          "scene": {
           "xaxis": {
            "backgroundcolor": "#E5ECF6",
            "gridcolor": "white",
            "gridwidth": 2,
            "linecolor": "white",
            "showbackground": true,
            "ticks": "",
            "zerolinecolor": "white"
           },
           "yaxis": {
            "backgroundcolor": "#E5ECF6",
            "gridcolor": "white",
            "gridwidth": 2,
            "linecolor": "white",
            "showbackground": true,
            "ticks": "",
            "zerolinecolor": "white"
           },
           "zaxis": {
            "backgroundcolor": "#E5ECF6",
            "gridcolor": "white",
            "gridwidth": 2,
            "linecolor": "white",
            "showbackground": true,
            "ticks": "",
            "zerolinecolor": "white"
           }
          },
          "shapedefaults": {
           "line": {
            "color": "#2a3f5f"
           }
          },
          "ternary": {
           "aaxis": {
            "gridcolor": "white",
            "linecolor": "white",
            "ticks": ""
           },
           "baxis": {
            "gridcolor": "white",
            "linecolor": "white",
            "ticks": ""
           },
           "bgcolor": "#E5ECF6",
           "caxis": {
            "gridcolor": "white",
            "linecolor": "white",
            "ticks": ""
           }
          },
          "title": {
           "x": 0.05
          },
          "xaxis": {
           "automargin": true,
           "gridcolor": "white",
           "linecolor": "white",
           "ticks": "",
           "title": {
            "standoff": 15
           },
           "zerolinecolor": "white",
           "zerolinewidth": 2
          },
          "yaxis": {
           "automargin": true,
           "gridcolor": "white",
           "linecolor": "white",
           "ticks": "",
           "title": {
            "standoff": 15
           },
           "zerolinecolor": "white",
           "zerolinewidth": 2
          }
         }
        },
        "title": {
         "text": "Accuracy Comparison"
        },
        "xaxis": {
         "anchor": "y",
         "domain": [
          0,
          1
         ],
         "title": {
          "text": "Model Type"
         }
        },
        "yaxis": {
         "anchor": "x",
         "domain": [
          0,
          1
         ],
         "range": [
          0,
          1
         ],
         "title": {
          "text": "Accuracy"
         }
        }
       }
      }
     },
     "metadata": {},
     "output_type": "display_data"
    }
   ],
   "source": [
    "mutationTestResults_1 = mutationTest(model1,X,y,10)\n",
    "mutationTestResults_2 = mutationTest(model2,X2,y2,10)\n",
    "compareAccuracies(mutationTestResults_1,mutationTestResults_2)"
   ]
  },
  {
   "cell_type": "code",
   "execution_count": null,
   "metadata": {},
   "outputs": [],
   "source": []
  },
  {
   "cell_type": "code",
   "execution_count": 5,
   "metadata": {},
   "outputs": [
    {
     "name": "stdout",
     "output_type": "stream",
     "text": [
      "\n",
      "Wilcoxon Test Results for Model 1:\n",
      "Statistic: 0.0000, P-value: 0.0020\n",
      "Significant difference in performance between original and mutated models.\n",
      "\n",
      "Wilcoxon Test Results for Model 2:\n",
      "Statistic: 0.0000, P-value: 0.0020\n",
      "Significant difference in performance between original and mutated models.\n"
     ]
    }
   ],
   "source": [
    "# Wilcoxon Test\n",
    "stat, p_value = wilcoxon(mutationTestResults_1['model'], mutationTestResults_1['model_mutated'])\n",
    "print(\"\\nWilcoxon Test Results for Model 1:\")\n",
    "print(f\"Statistic: {stat:.4f}, P-value: {p_value:.4f}\")\n",
    "\n",
    "if p_value < 0.05:\n",
    "    print(\"Significant difference in performance between original and mutated models.\")\n",
    "else:\n",
    "    print(\"No significant difference in performance between original and mutated models.\")\n",
    "\n",
    " # Wilcoxon Test\n",
    "stat, p_value = wilcoxon(mutationTestResults_2['model'], mutationTestResults_2['model_mutated'])\n",
    "print(\"\\nWilcoxon Test Results for Model 2:\")\n",
    "print(f\"Statistic: {stat:.4f}, P-value: {p_value:.4f}\")\n",
    "\n",
    "if p_value < 0.05:\n",
    "    print(\"Significant difference in performance between original and mutated models.\")\n",
    "else:\n",
    "    print(\"No significant difference in performance between original and mutated models.\")"
   ]
  },
  {
   "cell_type": "markdown",
   "metadata": {},
   "source": [
    "# Differentiation Testing\n"
   ]
  },
  {
   "cell_type": "code",
   "execution_count": 4,
   "metadata": {},
   "outputs": [
    {
     "name": "stdout",
     "output_type": "stream",
     "text": [
      "\n",
      "Run 1/10\n",
      "\n",
      "Run 2/10\n",
      "\n",
      "Run 3/10\n",
      "\n",
      "Run 4/10\n",
      "\n",
      "Run 5/10\n",
      "\n",
      "Run 6/10\n",
      "\n",
      "Run 7/10\n",
      "\n",
      "Run 8/10\n",
      "\n",
      "Run 9/10\n",
      "\n",
      "Run 10/10\n",
      "\n",
      "Run 1/10\n",
      "\n",
      "Run 2/10\n",
      "\n",
      "Run 3/10\n",
      "\n",
      "Run 4/10\n",
      "\n",
      "Run 5/10\n",
      "\n",
      "Run 6/10\n",
      "\n",
      "Run 7/10\n",
      "\n",
      "Run 8/10\n",
      "\n",
      "Run 9/10\n",
      "\n",
      "Run 10/10\n",
      "Average Metrics Across Runs:\n",
      "\n",
      "Model 1:\n",
      "accuracy_before: 0.89\n",
      "accuracy_after: 0.87\n",
      "tp_before: 992.10\n",
      "tp_after: 1126.90\n",
      "fp_before: 53.90\n",
      "fp_after: 525.10\n",
      "tn_before: 22064.80\n",
      "tn_after: 21593.60\n",
      "fn_before: 2889.20\n",
      "fn_after: 2754.40\n",
      "\n",
      "Model 2:\n",
      "accuracy_before: 0.99\n",
      "accuracy_after: 0.99\n",
      "tp_before: 3556.30\n",
      "tp_after: 3552.30\n",
      "fp_before: 5.90\n",
      "fp_after: 7.00\n",
      "tn_before: 22112.80\n",
      "tn_after: 22111.70\n",
      "fn_before: 325.00\n",
      "fn_after: 329.00\n"
     ]
    }
   ],
   "source": [
    "features_to_modify = ['contacten_soort_document__uitgaand_' , 'afspraak_aantal_woorden' ,'persoon_leeftijd_bij_onderzoek','relatie_kind_leeftijd_verschil_ouder_eerste_kind']\n",
    "\n",
    "metrics = differentiationTesting(model1,X,y,0.2,features_to_modify,10)\n",
    "metrics2 = differentiationTesting(model2,X2,y2,0.2,features_to_modify,10)\n",
    "print_average_metrics(metrics,metrics2)"
   ]
  },
  {
   "cell_type": "markdown",
   "metadata": {},
   "source": [
    "# Equivalence partitioning "
   ]
  },
  {
   "cell_type": "code",
   "execution_count": 3,
   "metadata": {},
   "outputs": [
    {
     "name": "stdout",
     "output_type": "stream",
     "text": [
      "Top 5 worst performing features for model 1: \n",
      "                                 feature  accuracy_difference  \\\n",
      "135  contacten_onderwerp_inname_aanvraag             0.556843   \n",
      "93      contacten_onderwerp__werk_intake             0.410047   \n",
      "80                     competentie_leren             0.389976   \n",
      "171       contacten_soort_rapportage_rib             0.272487   \n",
      "163               contacten_soort_anders             0.270833   \n",
      "\n",
      "                                            accuracies  \n",
      "135  [0.8901767521205516, 0.867576178416796, 0.3333...  \n",
      "93   [0.9100470957613814, 0.8725092660056388, 0.797...  \n",
      "80       [0.8899758388286374, 0.8634810571801829, 0.5]  \n",
      "171  [0.9015412885322133, 0.8685774256489092, 0.922...  \n",
      "163  [0.8685968015595105, 0.891636807654583, 0.8493...  \n",
      "Top 5 worst performing features for model 2: \n",
      "                                               feature  accuracy_difference  \\\n",
      "170             contacten_soort_telefoontje__uitgaand_             0.105417   \n",
      "160                             contacten_soort_anders             0.083333   \n",
      "246                         relatie_kind_jongvolwassen             0.075217   \n",
      "223  pla_einde_uitstroom_anders_dan_volgen_onderwij...             0.058842   \n",
      "90              competentie_vakdeskundigheid_toepassen             0.056806   \n",
      "\n",
      "                                            accuracies  \n",
      "170  [0.9869814475674815, 0.9877699713765288, 0.987...  \n",
      "160  [0.984116096891809, 0.9883099465540365, 0.9815...  \n",
      "246  [0.9882605539164955, 0.9876820376293882, 0.981...  \n",
      "223  [0.9890741980643983, 0.9816779785234044, 0.930...  \n",
      "90   [0.9838362068965517, 0.9901389761854879, 0.982...  \n"
     ]
    }
   ],
   "source": [
    "print(\"Top 5 worst performing features for model 1: \")\n",
    "model1_results = calculateEPHighestDifference(data,model1)\n",
    "print(model1_results)\n",
    "\n",
    "\n",
    "print(\"Top 5 worst performing features for model 2: \")\n",
    "model2_results = calculateEPHighestDifference(data2,model2)\n",
    "print(model2_results)\n",
    "\n"
   ]
  },
  {
   "cell_type": "code",
   "execution_count": 3,
   "metadata": {},
   "outputs": [
    {
     "name": "stdout",
     "output_type": "stream",
     "text": [
      "\n",
      "Run 1\n",
      "\n",
      "Run 1\n"
     ]
    },
    {
     "data": {
      "image/png": "[encoded data removed]",
      "text/plain": [
       "<Figure size 1000x600 with 1 Axes>"
      ]
     },
     "metadata": {},
     "output_type": "display_data"
    },
    {
     "data": {
      "image/png": "[encoded data removed]",
      "text/plain": [
       "<Figure size 1000x600 with 1 Axes>"
      ]
     },
     "metadata": {},
     "output_type": "display_data"
    },
    {
     "data": {
      "image/png": "[encoded data removed]",
      "text/plain": [
       "<Figure size 1000x600 with 1 Axes>"
      ]
     },
     "metadata": {},
     "output_type": "display_data"
    },
    {
     "data": {
      "image/png": "[encoded data removed]",
      "text/plain": [
       "<Figure size 1000x600 with 1 Axes>"
      ]
     },
     "metadata": {},
     "output_type": "display_data"
    },
    {
     "data": {
      "image/png": "[encoded data removed]",
      "text/plain": [
       "<Figure size 1000x600 with 1 Axes>"
      ]
     },
     "metadata": {},
     "output_type": "display_data"
    }
   ],
   "source": [
    "gender_partitions = [\n",
    "    {\"name\": \"Man\", \"condition\": lambda df: df['persoon_geslacht_vrouw'] < 1},\n",
    "    {\"name\": \"Woman\", \"condition\": lambda df: (df['persoon_geslacht_vrouw'] >= 1)}\n",
    "    \n",
    "]\n",
    "\n",
    "EPResults = equivalencePartitioning(model1,X,y,gender_partitions,1)\n",
    "EPResults2 = equivalencePartitioning(model2,X2,y2,gender_partitions,1)\n",
    "\n",
    "plot_EP_results(EPResults, EPResults2, 'accuracy')\n",
    "plot_EP_results(EPResults, EPResults2, 'tp')\n",
    "plot_EP_results(EPResults, EPResults2, 'tn')\n",
    "plot_EP_results(EPResults, EPResults2, 'fp')\n",
    "plot_EP_results(EPResults, EPResults2, 'fn')"
   ]
  },
  {
   "cell_type": "code",
   "execution_count": null,
   "metadata": {},
   "outputs": [],
   "source": []
  }
 ],
 "metadata": {
  "kernelspec": {
   "display_name": "aitesting",
   "language": "python",
   "name": "python3"
  },
  "language_info": {
   "codemirror_mode": {
    "name": "ipython",
    "version": 3
   },
   "file_extension": ".py",
   "mimetype": "text/x-python",
   "name": "python",
   "nbconvert_exporter": "python",
   "pygments_lexer": "ipython3",
   "version": "3.11.10"
  }
 },
 "nbformat": 4,
 "nbformat_minor": 2
}
