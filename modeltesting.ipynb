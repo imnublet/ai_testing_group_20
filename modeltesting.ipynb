{
 "cells": [
  {
   "cell_type": "code",
   "execution_count": 1,
   "metadata": {},
   "outputs": [
    {
     "name": "stderr",
     "output_type": "stream",
     "text": [
      "/var/folders/hz/8qhn2dwn2zs419cpd7l0w6q40000gn/T/ipykernel_19418/1932350364.py:4: DeprecationWarning: \n",
      "Pyarrow will become a required dependency of pandas in the next major release of pandas (pandas 3.0),\n",
      "(to allow more performant data types, such as the Arrow string type, and better interoperability with other libraries)\n",
      "but was not found to be installed on your system.\n",
      "If this would cause problems for you,\n",
      "please provide us feedback at https://github.com/pandas-dev/pandas/issues/54466\n",
      "        \n",
      "  import pandas as pd\n"
     ]
    }
   ],
   "source": [
    "import onnxruntime as rt\n",
    "from sklearn.metrics import accuracy_score\n",
    "from scipy.stats import wilcoxon\n",
    "import pandas as pd\n",
    "import numpy as np\n",
    "from testing import *"
   ]
  },
  {
   "cell_type": "code",
   "execution_count": 2,
   "metadata": {},
   "outputs": [],
   "source": [
    "# First we load the models and the data \n",
    "data = pd.read_csv('data/investigation_train_large_checked.csv')\n",
    "y = data['checked']\n",
    "X = data.drop(['checked', 'Ja', 'Nee'], axis=1)\n",
    "X = X.astype(np.float32)\n",
    "\n",
    "model1 = rt.InferenceSession(\"model/model_1.onnx\")\n",
    "model2 = rt.InferenceSession(\"model/RFmodel.onnx\")\n"
   ]
  },
  {
   "cell_type": "markdown",
   "metadata": {},
   "source": [
    "# Mutation testing"
   ]
  },
  {
   "cell_type": "code",
   "execution_count": 3,
   "metadata": {},
   "outputs": [
    {
     "name": "stdout",
     "output_type": "stream",
     "text": [
      "\n",
      "Run 1/10\n",
      "Initial accuracies: 0.8871 for model 1, 0.9902 for model 2\n",
      "Model 1 Accuracy altered: 0.5035, Model 2 Accuracy altered: 0.7363\n",
      "\n",
      "Run 2/10\n",
      "Initial accuracies: 0.8838 for model 1, 0.9901 for model 2\n",
      "Model 1 Accuracy altered: 0.5060, Model 2 Accuracy altered: 0.7362\n",
      "\n",
      "Run 3/10\n",
      "Initial accuracies: 0.8857 for model 1, 0.9900 for model 2\n",
      "Model 1 Accuracy altered: 0.5018, Model 2 Accuracy altered: 0.7366\n",
      "\n",
      "Run 4/10\n",
      "Initial accuracies: 0.8887 for model 1, 0.9897 for model 2\n",
      "Model 1 Accuracy altered: 0.5007, Model 2 Accuracy altered: 0.7358\n",
      "\n",
      "Run 5/10\n",
      "Initial accuracies: 0.8858 for model 1, 0.9887 for model 2\n",
      "Model 1 Accuracy altered: 0.5017, Model 2 Accuracy altered: 0.7375\n",
      "\n",
      "Run 6/10\n",
      "Initial accuracies: 0.8871 for model 1, 0.9903 for model 2\n",
      "Model 1 Accuracy altered: 0.5010, Model 2 Accuracy altered: 0.7407\n",
      "\n",
      "Run 7/10\n",
      "Initial accuracies: 0.8868 for model 1, 0.9907 for model 2\n",
      "Model 1 Accuracy altered: 0.5032, Model 2 Accuracy altered: 0.7335\n",
      "\n",
      "Run 8/10\n",
      "Initial accuracies: 0.8909 for model 1, 0.9902 for model 2\n",
      "Model 1 Accuracy altered: 0.5016, Model 2 Accuracy altered: 0.7372\n",
      "\n",
      "Run 9/10\n",
      "Initial accuracies: 0.8852 for model 1, 0.9898 for model 2\n",
      "Model 1 Accuracy altered: 0.5001, Model 2 Accuracy altered: 0.7391\n",
      "\n",
      "Run 10/10\n",
      "Initial accuracies: 0.8868 for model 1, 0.9896 for model 2\n",
      "Model 1 Accuracy altered: 0.4993, Model 2 Accuracy altered: 0.7349\n"
     ]
    },
    {
     "data": {
      "application/vnd.plotly.v1+json": {
       "config": {
        "plotlyServerURL": "https://plot.ly"
       },
       "data": [
        {
         "alignmentgroup": "True",
         "hovertemplate": "Model Type=%{x}<br>Accuracy=%{y}<extra></extra>",
         "legendgroup": "",
         "marker": {
          "color": "#636efa"
         },
         "name": "",
         "notched": false,
         "offsetgroup": "",
         "orientation": "v",
         "showlegend": false,
         "type": "box",
         "x": [
          "Model 1",
          "Model 1",
          "Model 1",
          "Model 1",
          "Model 1",
          "Model 1",
          "Model 1",
          "Model 1",
          "Model 1",
          "Model 1",
          "Model 1 Mutated",
          "Model 1 Mutated",
          "Model 1 Mutated",
          "Model 1 Mutated",
          "Model 1 Mutated",
          "Model 1 Mutated",
          "Model 1 Mutated",
          "Model 1 Mutated",
          "Model 1 Mutated",
          "Model 1 Mutated",
          "Model 2 ",
          "Model 2 ",
          "Model 2 ",
          "Model 2 ",
          "Model 2 ",
          "Model 2 ",
          "Model 2 ",
          "Model 2 ",
          "Model 2 ",
          "Model 2 ",
          "Model 2 Mutated",
          "Model 2 Mutated",
          "Model 2 Mutated",
          "Model 2 Mutated",
          "Model 2 Mutated",
          "Model 2 Mutated",
          "Model 2 Mutated",
          "Model 2 Mutated",
          "Model 2 Mutated",
          "Model 2 Mutated"
         ],
         "x0": " ",
         "xaxis": "x",
         "y": [
          0.8871153846153846,
          0.8838461538461538,
          0.8856923076923077,
          0.8887307692307692,
          0.8857692307692308,
          0.8871153846153846,
          0.8867692307692308,
          0.8909230769230769,
          0.8852307692307693,
          0.8868461538461538,
          0.5034615384615385,
          0.5059615384615385,
          0.5018461538461538,
          0.5007307692307692,
          0.5016923076923077,
          0.501,
          0.5031923076923077,
          0.501576923076923,
          0.5001153846153846,
          0.4993076923076923,
          0.9901923076923077,
          0.9900769230769231,
          0.9899615384615384,
          0.9896538461538461,
          0.9887307692307692,
          0.9903461538461539,
          0.9906923076923076,
          0.9901923076923077,
          0.9898461538461538,
          0.9895769230769231,
          0.7362692307692308,
          0.7361538461538462,
          0.7365769230769231,
          0.7357692307692307,
          0.7374615384615385,
          0.7407307692307692,
          0.7335384615384616,
          0.7371923076923077,
          0.7390769230769231,
          0.7349230769230769
         ],
         "y0": " ",
         "yaxis": "y"
        }
       ],
       "layout": {
        "boxmode": "group",
        "legend": {
         "tracegroupgap": 0
        },
        "template": {
         "data": {
          "bar": [
           {
            "error_x": {
             "color": "#2a3f5f"
            },
            "error_y": {
             "color": "#2a3f5f"
            },
            "marker": {
             "line": {
              "color": "#E5ECF6",
              "width": 0.5
             },
             "pattern": {
              "fillmode": "overlay",
              "size": 10,
              "solidity": 0.2
             }
            },
            "type": "bar"
           }
          ],
          "barpolar": [
           {
            "marker": {
             "line": {
              "color": "#E5ECF6",
              "width": 0.5
             },
             "pattern": {
              "fillmode": "overlay",
              "size": 10,
              "solidity": 0.2
             }
            },
            "type": "barpolar"
           }
          ],
          "carpet": [
           {
            "aaxis": {
             "endlinecolor": "#2a3f5f",
             "gridcolor": "white",
             "linecolor": "white",
             "minorgridcolor": "white",
             "startlinecolor": "#2a3f5f"
            },
            "baxis": {
             "endlinecolor": "#2a3f5f",
             "gridcolor": "white",
             "linecolor": "white",
             "minorgridcolor": "white",
             "startlinecolor": "#2a3f5f"
            },
            "type": "carpet"
           }
          ],
          "choropleth": [
           {
            "colorbar": {
             "outlinewidth": 0,
             "ticks": ""
            },
            "type": "choropleth"
           }
          ],
          "contour": [
           {
            "colorbar": {
             "outlinewidth": 0,
             "ticks": ""
            },
            "colorscale": [
             [
              0,
              "#0d0887"
             ],
             [
              0.1111111111111111,
              "#46039f"
             ],
             [
              0.2222222222222222,
              "#7201a8"
             ],
             [
              0.3333333333333333,
              "#9c179e"
             ],
             [
              0.4444444444444444,
              "#bd3786"
             ],
             [
              0.5555555555555556,
              "#d8576b"
             ],
             [
              0.6666666666666666,
              "#ed7953"
             ],
             [
              0.7777777777777778,
              "#fb9f3a"
             ],
             [
              0.8888888888888888,
              "#fdca26"
             ],
             [
              1,
              "#f0f921"
             ]
            ],
            "type": "contour"
           }
          ],
          "contourcarpet": [
           {
            "colorbar": {
             "outlinewidth": 0,
             "ticks": ""
            },
            "type": "contourcarpet"
           }
          ],
          "heatmap": [
           {
            "colorbar": {
             "outlinewidth": 0,
             "ticks": ""
            },
            "colorscale": [
             [
              0,
              "#0d0887"
             ],
             [
              0.1111111111111111,
              "#46039f"
             ],
             [
              0.2222222222222222,
              "#7201a8"
             ],
             [
              0.3333333333333333,
              "#9c179e"
             ],
             [
              0.4444444444444444,
              "#bd3786"
             ],
             [
              0.5555555555555556,
              "#d8576b"
             ],
             [
              0.6666666666666666,
              "#ed7953"
             ],
             [
              0.7777777777777778,
              "#fb9f3a"
             ],
             [
              0.8888888888888888,
              "#fdca26"
             ],
             [
              1,
              "#f0f921"
             ]
            ],
            "type": "heatmap"
           }
          ],
          "heatmapgl": [
           {
            "colorbar": {
             "outlinewidth": 0,
             "ticks": ""
            },
            "colorscale": [
             [
              0,
              "#0d0887"
             ],
             [
              0.1111111111111111,
              "#46039f"
             ],
             [
              0.2222222222222222,
              "#7201a8"
             ],
             [
              0.3333333333333333,
              "#9c179e"
             ],
             [
              0.4444444444444444,
              "#bd3786"
             ],
             [
              0.5555555555555556,
              "#d8576b"
             ],
             [
              0.6666666666666666,
              "#ed7953"
             ],
             [
              0.7777777777777778,
              "#fb9f3a"
             ],
             [
              0.8888888888888888,
              "#fdca26"
             ],
             [
              1,
              "#f0f921"
             ]
            ],
            "type": "heatmapgl"
           }
          ],
          "histogram": [
           {
            "marker": {
             "pattern": {
              "fillmode": "overlay",
              "size": 10,
              "solidity": 0.2
             }
            },
            "type": "histogram"
           }
          ],
          "histogram2d": [
           {
            "colorbar": {
             "outlinewidth": 0,
             "ticks": ""
            },
            "colorscale": [
             [
              0,
              "#0d0887"
             ],
             [
              0.1111111111111111,
              "#46039f"
             ],
             [
              0.2222222222222222,
              "#7201a8"
             ],
             [
              0.3333333333333333,
              "#9c179e"
             ],
             [
              0.4444444444444444,
              "#bd3786"
             ],
             [
              0.5555555555555556,
              "#d8576b"
             ],
             [
              0.6666666666666666,
              "#ed7953"
             ],
             [
              0.7777777777777778,
              "#fb9f3a"
             ],
             [
              0.8888888888888888,
              "#fdca26"
             ],
             [
              1,
              "#f0f921"
             ]
            ],
            "type": "histogram2d"
           }
          ],
          "histogram2dcontour": [
           {
            "colorbar": {
             "outlinewidth": 0,
             "ticks": ""
            },
            "colorscale": [
             [
              0,
              "#0d0887"
             ],
             [
              0.1111111111111111,
              "#46039f"
             ],
             [
              0.2222222222222222,
              "#7201a8"
             ],
             [
              0.3333333333333333,
              "#9c179e"
             ],
             [
              0.4444444444444444,
              "#bd3786"
             ],
             [
              0.5555555555555556,
              "#d8576b"
             ],
             [
              0.6666666666666666,
              "#ed7953"
             ],
             [
              0.7777777777777778,
              "#fb9f3a"
             ],
             [
              0.8888888888888888,
              "#fdca26"
             ],
             [
              1,
              "#f0f921"
             ]
            ],
            "type": "histogram2dcontour"
           }
          ],
          "mesh3d": [
           {
            "colorbar": {
             "outlinewidth": 0,
             "ticks": ""
            },
            "type": "mesh3d"
           }
          ],
          "parcoords": [
           {
            "line": {
             "colorbar": {
              "outlinewidth": 0,
              "ticks": ""
             }
            },
            "type": "parcoords"
           }
          ],
          "pie": [
           {
            "automargin": true,
            "type": "pie"
           }
          ],
          "scatter": [
           {
            "fillpattern": {
             "fillmode": "overlay",
             "size": 10,
             "solidity": 0.2
            },
            "type": "scatter"
           }
          ],
          "scatter3d": [
           {
            "line": {
             "colorbar": {
              "outlinewidth": 0,
              "ticks": ""
             }
            },
            "marker": {
             "colorbar": {
              "outlinewidth": 0,
              "ticks": ""
             }
            },
            "type": "scatter3d"
           }
          ],
          "scattercarpet": [
           {
            "marker": {
             "colorbar": {
              "outlinewidth": 0,
              "ticks": ""
             }
            },
            "type": "scattercarpet"
           }
          ],
          "scattergeo": [
           {
            "marker": {
             "colorbar": {
              "outlinewidth": 0,
              "ticks": ""
             }
            },
            "type": "scattergeo"
           }
          ],
          "scattergl": [
           {
            "marker": {
             "colorbar": {
              "outlinewidth": 0,
              "ticks": ""
             }
            },
            "type": "scattergl"
           }
          ],
          "scattermapbox": [
           {
            "marker": {
             "colorbar": {
              "outlinewidth": 0,
              "ticks": ""
             }
            },
            "type": "scattermapbox"
           }
          ],
          "scatterpolar": [
           {
            "marker": {
             "colorbar": {
              "outlinewidth": 0,
              "ticks": ""
             }
            },
            "type": "scatterpolar"
           }
          ],
          "scatterpolargl": [
           {
            "marker": {
             "colorbar": {
              "outlinewidth": 0,
              "ticks": ""
             }
            },
            "type": "scatterpolargl"
           }
          ],
          "scatterternary": [
           {
            "marker": {
             "colorbar": {
              "outlinewidth": 0,
              "ticks": ""
             }
            },
            "type": "scatterternary"
           }
          ],
          "surface": [
           {
            "colorbar": {
             "outlinewidth": 0,
             "ticks": ""
            },
            "colorscale": [
             [
              0,
              "#0d0887"
             ],
             [
              0.1111111111111111,
              "#46039f"
             ],
             [
              0.2222222222222222,
              "#7201a8"
             ],
             [
              0.3333333333333333,
              "#9c179e"
             ],
             [
              0.4444444444444444,
              "#bd3786"
             ],
             [
              0.5555555555555556,
              "#d8576b"
             ],
             [
              0.6666666666666666,
              "#ed7953"
             ],
             [
              0.7777777777777778,
              "#fb9f3a"
             ],
             [
              0.8888888888888888,
              "#fdca26"
             ],
             [
              1,
              "#f0f921"
             ]
            ],
            "type": "surface"
           }
          ],
          "table": [
           {
            "cells": {
             "fill": {
              "color": "#EBF0F8"
             },
             "line": {
              "color": "white"
             }
            },
            "header": {
             "fill": {
              "color": "#C8D4E3"
             },
             "line": {
              "color": "white"
             }
            },
            "type": "table"
           }
          ]
         },
         "layout": {
          "annotationdefaults": {
           "arrowcolor": "#2a3f5f",
           "arrowhead": 0,
           "arrowwidth": 1
          },
          "autotypenumbers": "strict",
          "coloraxis": {
           "colorbar": {
            "outlinewidth": 0,
            "ticks": ""
           }
          },
          "colorscale": {
           "diverging": [
            [
             0,
             "#8e0152"
            ],
            [
             0.1,
             "#c51b7d"
            ],
            [
             0.2,
             "#de77ae"
            ],
            [
             0.3,
             "#f1b6da"
            ],
            [
             0.4,
             "#fde0ef"
            ],
            [
             0.5,
             "#f7f7f7"
            ],
            [
             0.6,
             "#e6f5d0"
            ],
            [
             0.7,
             "#b8e186"
            ],
            [
             0.8,
             "#7fbc41"
            ],
            [
             0.9,
             "#4d9221"
            ],
            [
             1,
             "#276419"
            ]
           ],
           "sequential": [
            [
             0,
             "#0d0887"
            ],
            [
             0.1111111111111111,
             "#46039f"
            ],
            [
             0.2222222222222222,
             "#7201a8"
            ],
            [
             0.3333333333333333,
             "#9c179e"
            ],
            [
             0.4444444444444444,
             "#bd3786"
            ],
            [
             0.5555555555555556,
             "#d8576b"
            ],
            [
             0.6666666666666666,
             "#ed7953"
            ],
            [
             0.7777777777777778,
             "#fb9f3a"
            ],
            [
             0.8888888888888888,
             "#fdca26"
            ],
            [
             1,
             "#f0f921"
            ]
           ],
           "sequentialminus": [
            [
             0,
             "#0d0887"
            ],
            [
             0.1111111111111111,
             "#46039f"
            ],
            [
             0.2222222222222222,
             "#7201a8"
            ],
            [
             0.3333333333333333,
             "#9c179e"
            ],
            [
             0.4444444444444444,
             "#bd3786"
            ],
            [
             0.5555555555555556,
             "#d8576b"
            ],
            [
             0.6666666666666666,
             "#ed7953"
            ],
            [
             0.7777777777777778,
             "#fb9f3a"
            ],
            [
             0.8888888888888888,
             "#fdca26"
            ],
            [
             1,
             "#f0f921"
            ]
           ]
          },
          "colorway": [
           "#636efa",
           "#EF553B",
           "#00cc96",
           "#ab63fa",
           "#FFA15A",
           "#19d3f3",
           "#FF6692",
           "#B6E880",
           "#FF97FF",
           "#FECB52"
          ],
          "font": {
           "color": "#2a3f5f"
          },
          "geo": {
           "bgcolor": "white",
           "lakecolor": "white",
           "landcolor": "#E5ECF6",
           "showlakes": true,
           "showland": true,
           "subunitcolor": "white"
          },
          "hoverlabel": {
           "align": "left"
          },
          "hovermode": "closest",
          "mapbox": {
           "style": "light"
          },
          "paper_bgcolor": "white",
          "plot_bgcolor": "#E5ECF6",
          "polar": {
           "angularaxis": {
            "gridcolor": "white",
            "linecolor": "white",
            "ticks": ""
           },
           "bgcolor": "#E5ECF6",
           "radialaxis": {
            "gridcolor": "white",
            "linecolor": "white",
            "ticks": ""
           }
          },
          "scene": {
           "xaxis": {
            "backgroundcolor": "#E5ECF6",
            "gridcolor": "white",
            "gridwidth": 2,
            "linecolor": "white",
            "showbackground": true,
            "ticks": "",
            "zerolinecolor": "white"
           },
           "yaxis": {
            "backgroundcolor": "#E5ECF6",
            "gridcolor": "white",
            "gridwidth": 2,
            "linecolor": "white",
            "showbackground": true,
            "ticks": "",
            "zerolinecolor": "white"
           },
           "zaxis": {
            "backgroundcolor": "#E5ECF6",
            "gridcolor": "white",
            "gridwidth": 2,
            "linecolor": "white",
            "showbackground": true,
            "ticks": "",
            "zerolinecolor": "white"
           }
          },
          "shapedefaults": {
           "line": {
            "color": "#2a3f5f"
           }
          },
          "ternary": {
           "aaxis": {
            "gridcolor": "white",
            "linecolor": "white",
            "ticks": ""
           },
           "baxis": {
            "gridcolor": "white",
            "linecolor": "white",
            "ticks": ""
           },
           "bgcolor": "#E5ECF6",
           "caxis": {
            "gridcolor": "white",
            "linecolor": "white",
            "ticks": ""
           }
          },
          "title": {
           "x": 0.05
          },
          "xaxis": {
           "automargin": true,
           "gridcolor": "white",
           "linecolor": "white",
           "ticks": "",
           "title": {
            "standoff": 15
           },
           "zerolinecolor": "white",
           "zerolinewidth": 2
          },
          "yaxis": {
           "automargin": true,
           "gridcolor": "white",
           "linecolor": "white",
           "ticks": "",
           "title": {
            "standoff": 15
           },
           "zerolinecolor": "white",
           "zerolinewidth": 2
          }
         }
        },
        "title": {
         "text": "Accuracy Comparison"
        },
        "xaxis": {
         "anchor": "y",
         "domain": [
          0,
          1
         ],
         "title": {
          "text": "Model Type"
         }
        },
        "yaxis": {
         "anchor": "x",
         "domain": [
          0,
          1
         ],
         "title": {
          "text": "Accuracy"
         }
        }
       }
      }
     },
     "metadata": {},
     "output_type": "display_data"
    }
   ],
   "source": [
    "mutationTestResults = mutationTest(model1,model2,X,y,10)\n",
    "compareAccuracies(mutationTestResults)"
   ]
  },
  {
   "cell_type": "code",
   "execution_count": 4,
   "metadata": {},
   "outputs": [
    {
     "name": "stdout",
     "output_type": "stream",
     "text": [
      "\n",
      "Wilcoxon Test Results for Model 1:\n",
      "Statistic: 0.0000, P-value: 0.0020\n",
      "Significant difference in performance between original and mutated models.\n",
      "\n",
      "Wilcoxon Test Results for Model 2:\n",
      "Statistic: 0.0000, P-value: 0.0020\n",
      "Significant difference in performance between original and mutated models.\n"
     ]
    }
   ],
   "source": [
    "# Wilcoxon Test\n",
    "stat, p_value = wilcoxon(mutationTestResults['model1'], mutationTestResults['model1_mutated'])\n",
    "print(\"\\nWilcoxon Test Results for Model 1:\")\n",
    "print(f\"Statistic: {stat:.4f}, P-value: {p_value:.4f}\")\n",
    "\n",
    "if p_value < 0.05:\n",
    "    print(\"Significant difference in performance between original and mutated models.\")\n",
    "else:\n",
    "    print(\"No significant difference in performance between original and mutated models.\")\n",
    "\n",
    " # Wilcoxon Test\n",
    "stat, p_value = wilcoxon(mutationTestResults['model2'], mutationTestResults['model2_mutated'])\n",
    "print(\"\\nWilcoxon Test Results for Model 2:\")\n",
    "print(f\"Statistic: {stat:.4f}, P-value: {p_value:.4f}\")\n",
    "\n",
    "if p_value < 0.05:\n",
    "    print(\"Significant difference in performance between original and mutated models.\")\n",
    "else:\n",
    "    print(\"No significant difference in performance between original and mutated models.\")"
   ]
  },
  {
   "cell_type": "markdown",
   "metadata": {},
   "source": [
    "# Differentiation Testing\n"
   ]
  },
  {
   "cell_type": "code",
   "execution_count": 5,
   "metadata": {},
   "outputs": [
    {
     "name": "stdout",
     "output_type": "stream",
     "text": [
      "\n",
      "Run 1/10\n",
      "\n",
      "Run 2/10\n",
      "\n",
      "Run 3/10\n",
      "\n",
      "Run 4/10\n",
      "\n",
      "Run 5/10\n",
      "\n",
      "Run 6/10\n",
      "\n",
      "Run 7/10\n",
      "\n",
      "Run 8/10\n",
      "\n",
      "Run 9/10\n",
      "\n",
      "Run 10/10\n",
      "Average Metrics Across Runs:\n",
      "\n",
      "Model 1:\n",
      "accuracy_before: 0.89\n",
      "accuracy_after: 0.87\n",
      "tp_before: 992.10\n",
      "tp_after: 1126.80\n",
      "fp_before: 53.90\n",
      "fp_after: 524.40\n",
      "tn_before: 22064.80\n",
      "tn_after: 21594.30\n",
      "fn_before: 2889.20\n",
      "fn_after: 2754.50\n",
      "\n",
      "Model 2:\n",
      "accuracy_before: 0.99\n",
      "accuracy_after: 0.99\n",
      "tp_before: 3623.50\n",
      "tp_after: 3619.00\n",
      "fp_before: 4.10\n",
      "fp_after: 4.10\n",
      "tn_before: 22114.60\n",
      "tn_after: 22114.60\n",
      "fn_before: 257.80\n",
      "fn_after: 262.30\n"
     ]
    }
   ],
   "source": [
    "features_to_modify = ['contacten_soort_document__uitgaand_' , 'afspraak_aantal_woorden' ,'persoon_leeftijd_bij_onderzoek','relatie_kind_leeftijd_verschil_ouder_eerste_kind','persoonlijke_eigenschappen_spreektaal']\n",
    "\n",
    "metrics = differentiationTesting(model1,model2,X,y,0.2,features_to_modify,10)\n",
    "print_average_metrics(metrics)"
   ]
  },
  {
   "cell_type": "markdown",
   "metadata": {},
   "source": [
    "# Equivalence partitioning "
   ]
  },
  {
   "cell_type": "code",
   "execution_count": 3,
   "metadata": {},
   "outputs": [
    {
     "name": "stdout",
     "output_type": "stream",
     "text": [
      "Top 5 worst performing features for model 1: \n",
      "                                 feature  accuracy_difference  \\\n",
      "135  contacten_onderwerp_inname_aanvraag             0.556843   \n",
      "93      contacten_onderwerp__werk_intake             0.410047   \n",
      "80                     competentie_leren             0.389976   \n",
      "171       contacten_soort_rapportage_rib             0.272487   \n",
      "163               contacten_soort_anders             0.270833   \n",
      "\n",
      "                                            accuracies  \n",
      "135  [0.8901767521205516, 0.867576178416796, 0.3333...  \n",
      "93   [0.9100470957613814, 0.8725092660056388, 0.797...  \n",
      "80       [0.8899758388286374, 0.8634810571801829, 0.5]  \n",
      "171  [0.9015412885322133, 0.8685774256489092, 0.922...  \n",
      "163  [0.8685968015595105, 0.891636807654583, 0.8493...  \n",
      "Top 5 worst performing features for model 2: \n",
      "                                               feature  accuracy_difference  \\\n",
      "195        instrument_reden_beeindiging_historie_other             0.990959   \n",
      "152                           contacten_onderwerp_zorg             0.108956   \n",
      "173             contacten_soort_telefoontje__uitgaand_             0.108470   \n",
      "261  pla_einde_uitstroom_anders_dan_volgen_onderwij...             0.061094   \n",
      "299  relatie_partner_aantal_partner___partner__gehuwd_             0.058999   \n",
      "\n",
      "                                            accuracies  \n",
      "195  [0.9909591776364444, 0.9898141963689355, 0.985...  \n",
      "152  [0.9899111217871727, 0.9877822455923291, 0.990...  \n",
      "173  [0.9901398731321496, 0.989613149449215, 0.9908...  \n",
      "261  [0.9913263132266115, 0.9857884842111971, 0.930...  \n",
      "299  [0.9900337837837838, 0.989806007296035, 0.9310...  \n"
     ]
    }
   ],
   "source": [
    "print(\"Top 5 worst performing features for model 1: \")\n",
    "model1_results = calculateEPHighestDifference(data,model1)\n",
    "print(model1_results)\n",
    "\n",
    "print(\"Top 5 worst performing features for model 2: \")\n",
    "model2_results = calculateEPHighestDifference(data,model2)\n",
    "print(model2_results)"
   ]
  },
  {
   "cell_type": "code",
   "execution_count": null,
   "metadata": {},
   "outputs": [
    {
     "name": "stdout",
     "output_type": "stream",
     "text": [
      "\n",
      "Run 1\n"
     ]
    },
    {
     "data": {
      "image/png": "[encoded data removed]",
      "text/plain": [
       "<Figure size 1000x600 with 1 Axes>"
      ]
     },
     "metadata": {},
     "output_type": "display_data"
    },
    {
     "data": {
      "image/png": "[encoded data removed]",
      "text/plain": [
       "<Figure size 1000x600 with 1 Axes>"
      ]
     },
     "metadata": {},
     "output_type": "display_data"
    },
    {
     "data": {
      "image/png": "[encoded data removed]",
      "text/plain": [
       "<Figure size 1000x600 with 1 Axes>"
      ]
     },
     "metadata": {},
     "output_type": "display_data"
    },
    {
     "data": {
      "image/png": "[encoded data removed]",
      "text/plain": [
       "<Figure size 1000x600 with 1 Axes>"
      ]
     },
     "metadata": {},
     "output_type": "display_data"
    },
    {
     "data": {
      "image/png": "[encoded data removed]",
      "text/plain": [
       "<Figure size 1000x600 with 1 Axes>"
      ]
     },
     "metadata": {},
     "output_type": "display_data"
    }
   ],
   "source": [
    "gender_partitions = [\n",
    "    {\"name\": \"Man\", \"condition\": lambda df: df['persoon_geslacht_vrouw'] < 1},\n",
    "    {\"name\": \"Woman\", \"condition\": lambda df: (df['persoon_geslacht_vrouw'] >= 1)}\n",
    "    \n",
    "]\n",
    "\n",
    "EPResults = equivalencePartitioning(model1,model2,X,y,gender_partitions,1)\n",
    "\n",
    "plot_EP_results(EPResults,'accuracy')\n",
    "plot_EP_results(EPResults,'tp')\n",
    "plot_EP_results(EPResults,'tn')\n",
    "plot_EP_results(EPResults,'fp')\n",
    "plot_EP_results(EPResults,'fn')"
   ]
  },
  {
   "cell_type": "code",
   "execution_count": null,
   "metadata": {},
   "outputs": [],
   "source": []
  }
 ],
 "metadata": {
  "kernelspec": {
   "display_name": "aitesting",
   "language": "python",
   "name": "python3"
  },
  "language_info": {
   "codemirror_mode": {
    "name": "ipython",
    "version": 3
   },
   "file_extension": ".py",
   "mimetype": "text/x-python",
   "name": "python",
   "nbconvert_exporter": "python",
   "pygments_lexer": "ipython3",
   "version": "3.11.10"
  }
 },
 "nbformat": 4,
 "nbformat_minor": 2
}
