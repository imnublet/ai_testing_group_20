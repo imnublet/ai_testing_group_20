{
 "cells": [
  {
   "cell_type": "code",
   "execution_count": null,
   "metadata": {
    "tags": [],
    "pycharm": {
     "name": "#%%\n"
    }
   },
   "outputs": [],
   "source": [
    "import matplotlib.pyplot as plt\n",
    "import seaborn as sns\n",
    "import numpy as np\n",
    "import scipy as sp\n",
    "import pandas as pd\n",
    "import plotly.express as px"
   ]
  },
  {
   "cell_type": "code",
   "execution_count": null,
   "metadata": {
    "pycharm": {
     "name": "#%%\n"
    }
   },
   "outputs": [],
   "source": [
    "%load_ext autoreload\n",
    "\n",
    "%autoreload 2"
   ]
  },
  {
   "cell_type": "code",
   "execution_count": null,
   "metadata": {
    "pycharm": {
     "name": "#%%\n"
    }
   },
   "outputs": [],
   "source": [
    "data_desc = pd.read_csv('../data/data_description.csv', encoding='latin-1')\n",
    "df = pd.read_csv('../data/investigation_train_large_checked.csv')\n",
    "df_synth = pd.read_csv('../data/synth_data_for_training.csv')"
   ]
  },
  {
   "cell_type": "code",
   "execution_count": null,
   "metadata": {
    "pycharm": {
     "name": "#%%\n"
    }
   },
   "outputs": [],
   "source": [
    "# figures = []\n",
    "# for column in df.columns:\n",
    "#     fig = px.histogram(df, x=column, title=f\"Distribution of {column}\", nbins=30)\n",
    "#     fig.show()"
   ]
  },
  {
   "cell_type": "code",
   "execution_count": null,
   "metadata": {
    "pycharm": {
     "name": "#%%\n"
    }
   },
   "outputs": [],
   "source": [
    "# Compute the correlation matrix\n",
    "corr_matrix = df.corr()"
   ]
  },
  {
   "cell_type": "code",
   "execution_count": null,
   "outputs": [],
   "source": [
    "\n",
    "# Plot the correlation matrix\n",
    "plt.figure(figsize=(22, 18))\n",
    "sns.heatmap(corr_matrix, annot=False, fmt=\".2f\", cmap=\"coolwarm\", cbar=True)\n",
    "plt.title(\"Feature Correlation Matrix\")\n",
    "plt.savefig(\"correlation_matrix.png\", dpi=300)\n",
    "plt.show()"
   ],
   "metadata": {
    "collapsed": false,
    "pycharm": {
     "name": "#%%\n"
    }
   }
  },
  {
   "cell_type": "code",
   "execution_count": null,
   "outputs": [],
   "source": [
    "\n",
    "# Identify highly correlated features (threshold: 0.9)\n",
    "threshold = 0.5\n",
    "high_corr_pairs = np.where(np.abs(corr_matrix) > threshold)\n",
    "high_corr_pairs = [\n",
    "    (df.columns[i], df.columns[j])\n",
    "    for i, j in zip(*high_corr_pairs) if i != j and i < j\n",
    "]\n",
    "\n",
    "# Display highly correlated feature pairs\n",
    "if high_corr_pairs:\n",
    "    print(\"Highly correlated feature pairs (threshold > 0.9):\")\n",
    "    for pair in high_corr_pairs:\n",
    "        print(pair)\n",
    "else:\n",
    "    print(\"No highly correlated feature pairs found.\")\n",
    "\n"
   ],
   "metadata": {
    "collapsed": false,
    "pycharm": {
     "name": "#%%\n"
    }
   }
  },
  {
   "cell_type": "code",
   "execution_count": null,
   "metadata": {
    "pycharm": {
     "name": "#%%\n"
    }
   },
   "outputs": [],
   "source": [
    "feature = 'adres_recentste_wijk_feijenoord'\n",
    "\n",
    "if feature in df.columns:\n",
    "    # Compute correlation of 'checked' with every other column\n",
    "    checked_correlations = corr_matrix[feature].drop(feature)  # Exclude self-correlation\n",
    "\n",
    "    checked_correlations = checked_correlations.sort_values(ascending=False)\n",
    "    # Display the correlation values\n",
    "    print(\"Correlations of \" + feature + \" with other columns:\")\n",
    "    print(checked_correlations)\n",
    "\n",
    "else:\n",
    "    print(\"'checked' column not found in the dataset.\")"
   ]
  },
  {
   "cell_type": "code",
   "execution_count": null,
   "outputs": [],
   "source": [],
   "metadata": {
    "collapsed": false,
    "pycharm": {
     "name": "#%%\n"
    }
   }
  },
  {
   "cell_type": "code",
   "execution_count": null,
   "outputs": [],
   "source": [],
   "metadata": {
    "collapsed": false,
    "pycharm": {
     "name": "#%%\n"
    }
   }
  },
  {
   "cell_type": "code",
   "execution_count": null,
   "outputs": [],
   "source": [],
   "metadata": {
    "collapsed": false,
    "pycharm": {
     "name": "#%%\n"
    }
   }
  },
  {
   "cell_type": "code",
   "execution_count": null,
   "outputs": [],
   "source": [],
   "metadata": {
    "collapsed": false,
    "pycharm": {
     "name": "#%%\n"
    }
   }
  }
 ],
 "metadata": {
  "kernelspec": {
   "display_name": "Python 3 (ipykernel)",
   "language": "python",
   "name": "python3"
  },
  "language_info": {
   "codemirror_mode": {
    "name": "ipython",
    "version": 3
   },
   "file_extension": ".py",
   "mimetype": "text/x-python",
   "name": "python",
   "nbconvert_exporter": "python",
   "pygments_lexer": "ipython3",
   "version": "3.11.10"
  }
 },
 "nbformat": 4,
 "nbformat_minor": 4
}