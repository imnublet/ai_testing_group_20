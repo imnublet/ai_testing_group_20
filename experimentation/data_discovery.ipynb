{
 "cells": [
  {
   "cell_type": "code",
   "execution_count": null,
   "metadata": {
    "tags": []
   },
   "outputs": [],
   "source": [
    "import matplotlib.pyplot as plt\n",
    "import seaborn as sns\n",
    "import numpy as np\n",
    "import scipy as sp\n",
    "import pandas as pd\n",
    "import plotly.express as px"
   ]
  },
  {
   "cell_type": "code",
   "execution_count": null,
   "metadata": {},
   "outputs": [],
   "source": [
    "%load_ext autoreload\n",
    "\n",
    "%autoreload 2"
   ]
  },
  {
   "cell_type": "code",
   "execution_count": null,
   "metadata": {},
   "outputs": [],
   "source": [
    "data_desc = pd.read_csv('data/data_description.csv', encoding='latin-1')\n",
    "df = pd.read_csv('data/investigation_train_large_checked.csv')\n",
    "df_synth = pd.read_csv('data/synth_data_for_training.csv')"
   ]
  },
  {
   "cell_type": "code",
   "execution_count": null,
   "metadata": {},
   "outputs": [],
   "source": [
    "figures = []\n",
    "for column in df.columns:\n",
    "    fig = px.histogram(df, x=column, title=f\"Distribution of {column}\", nbins=30)\n",
    "    fig.show()"
   ]
  },
  {
   "cell_type": "code",
   "execution_count": null,
   "metadata": {},
   "outputs": [],
   "source": [
    "# Compute the correlation matrix\n",
    "corr_matrix = df.corr()\n",
    "\n",
    "# Plot the correlation matrix\n",
    "plt.figure(figsize=(22, 18))\n",
    "sns.heatmap(corr_matrix, annot=False, fmt=\".2f\", cmap=\"coolwarm\", cbar=True)\n",
    "plt.title(\"Feature Correlation Matrix\")\n",
    "plt.savefig(\"correlation_matrix.png\", dpi=300)\n",
    "plt.show()\n",
    "\n",
    "# Identify highly correlated features (threshold: 0.9)\n",
    "threshold = 0.9\n",
    "high_corr_pairs = np.where(np.abs(corr_matrix) > threshold)\n",
    "high_corr_pairs = [\n",
    "    (df.columns[i], df.columns[j]) \n",
    "    for i, j in zip(*high_corr_pairs) if i != j and i < j\n",
    "]\n",
    "\n",
    "# Display highly correlated feature pairs\n",
    "if high_corr_pairs:\n",
    "    print(\"Highly correlated feature pairs (threshold > 0.9):\")\n",
    "    for pair in high_corr_pairs:\n",
    "        print(pair)\n",
    "else:\n",
    "    print(\"No highly correlated feature pairs found.\")\n"
   ]
  },
  {
   "cell_type": "code",
   "execution_count": null,
   "metadata": {},
   "outputs": [],
   "source": []
  }
 ],
 "metadata": {
  "kernelspec": {
   "display_name": "Python 3 (ipykernel)",
   "language": "python",
   "name": "python3"
  },
  "language_info": {
   "codemirror_mode": {
    "name": "ipython",
    "version": 3
   },
   "file_extension": ".py",
   "mimetype": "text/x-python",
   "name": "python",
   "nbconvert_exporter": "python",
   "pygments_lexer": "ipython3",
   "version": "3.11.10"
  }
 },
 "nbformat": 4,
 "nbformat_minor": 4
}
