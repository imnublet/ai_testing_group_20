{
 "cells": [
  {
   "cell_type": "code",
   "execution_count": null,
   "outputs": [],
   "source": [
    "import pandas as pd\n",
    "import numpy as np\n",
    "from sklearn.model_selection import train_test_split\n",
    "import onnxruntime as rt\n",
    "import onnx\n",
    "from skl2onnx.common.data_types import FloatTensorType\n",
    "from skl2onnx import to_onnx\n",
    "from sklearn.feature_selection import VarianceThreshold\n",
    "from sklearn.ensemble import GradientBoostingClassifier\n",
    "from sklearn.metrics import accuracy_score\n",
    "from sklearn.pipeline import Pipeline\n",
    "from skl2onnx import convert_sklearn\n",
    "from sklearn.metrics import confusion_matrix\n"
   ],
   "metadata": {
    "collapsed": false,
    "pycharm": {
     "name": "#%%\n"
    }
   }
  },
  {
   "cell_type": "code",
   "execution_count": null,
   "outputs": [],
   "source": [
    "# Let's load the dataset\n",
    "data = pd.read_csv('data/investigation_train_large_checked.csv')\n",
    "\n",
    "# Let's specify the features and the target\n",
    "y = data['checked']\n",
    "X = data.drop(['checked'], axis=1)\n",
    "X = X.astype(np.float32)\n",
    "\n",
    "# Let's split the dataset into train and test\n",
    "X_train, X_test, y_train, y_test = train_test_split(X, y, test_size=0.2, random_state=42)"
   ],
   "metadata": {
    "collapsed": false,
    "pycharm": {
     "name": "#%%\n"
    }
   }
  },
  {
   "cell_type": "code",
   "execution_count": null,
   "outputs": [],
   "source": [
    "from sklearn.linear_model import LinearRegression\n",
    "\n",
    "# Initialize the model\n",
    "model = LinearRegression()\n",
    "\n",
    "# Fit the model\n",
    "model.fit(X_train, y_train)\n",
    "\n",
    "# Make predictions\n",
    "y_pred = model.predict(X_test)\n",
    "\n",
    "from sklearn.metrics import accuracy_score\n",
    "from sklearn.metrics import mean_squared_error, mean_absolute_error, r2_score\n",
    "\n",
    "# Convert regression predictions to binary classifications\n",
    "# Adjust the threshold (e.g., 0.5) based on your problem\n",
    "y_pred_binary = (y_pred >= 0.450).astype(int)\n",
    "\n",
    "# Calculate accuracy\n",
    "accuracy = accuracy_score(y_test, y_pred_binary)\n",
    "\n",
    "# Print accuracy\n",
    "print(f\"Accuracy: {accuracy}\")\n",
    "\n",
    "\n",
    "# Calculate metrics\n",
    "mse = mean_squared_error(y_test, y_pred)\n",
    "mae = mean_absolute_error(y_test, y_pred)\n",
    "r2 = r2_score(y_test, y_pred)\n",
    "\n",
    "# Print metrics\n",
    "print(f\"Mean Squared Error (MSE): {mse}\")\n",
    "print(f\"Mean Absolute Error (MAE): {mae}\")\n",
    "print(f\"R-squared (R²): {r2}\")"
   ],
   "metadata": {
    "collapsed": false,
    "pycharm": {
     "name": "#%%\n"
    }
   }
  },
  {
   "cell_type": "code",
   "execution_count": null,
   "outputs": [],
   "source": [
    "# Define equivalent partitions\n",
    "partitions = [\n",
    "    {\"name\": \"Children\", \"condition\": lambda df: df['persoon_leeftijd_bij_onderzoek'] < 18},\n",
    "    {\"name\": \"Adults\", \"condition\": lambda df: (df['persoon_leeftijd_bij_onderzoek'] >= 18) & (df['persoon_leeftijd_bij_onderzoek'] <= 60)},\n",
    "    {\"name\": \"Seniors\", \"condition\": lambda df: df['persoon_leeftijd_bij_onderzoek'] > 60},\n",
    "]"
   ],
   "metadata": {
    "collapsed": false,
    "pycharm": {
     "name": "#%%\n"
    }
   }
  },
  {
   "cell_type": "code",
   "execution_count": null,
   "outputs": [],
   "source": [
    "# Apply equivalent partitioning\n",
    "for partition in partitions:\n",
    "    partition_data = X_test[partition[\"condition\"](X_test)]\n",
    "    partition_indices = partition_data.index  # Get the indices of the partition\n",
    "    partition_labels = y_test.loc[partition_indices]  # Get the actual labels for the partition\n",
    "\n",
    "    if not partition_data.empty:\n",
    "        # Predictions using the model\n",
    "        predictions = model.predict(partition_data)\n",
    "\n",
    "        y_pred_binary = (predictions >= 0.450).astype(int)\n",
    "\n",
    "        # Calculate accuracy for this partition\n",
    "        accuracy = accuracy_score(partition_labels, y_pred_binary)\n",
    "\n",
    "        # Print partition details\n",
    "        print(f\"Partition: {partition['name']}\")\n",
    "        print(f\"Number of data points: {len(partition_data)}\")\n",
    "        print(f\"Accuracy: {accuracy:.2f}\")\n",
    "        print(f\"Predictions: {np.unique(predictions, return_counts=True)}\\n\")"
   ],
   "metadata": {
    "collapsed": false,
    "pycharm": {
     "name": "#%%\n"
    }
   }
  },
  {
   "cell_type": "code",
   "execution_count": null,
   "outputs": [],
   "source": [
    "# Define equivalent partitions\n",
    "partitions = [\n",
    "    {\"name\": \"Women\", \"condition\": lambda df: df['persoon_geslacht_vrouw'] == 1},\n",
    "    {\"name\": \"Men\", \"condition\": lambda df: df['persoon_geslacht_vrouw'] == 0}\n",
    "]\n",
    "\n",
    "for partition in partitions:\n",
    "    partition_data = X_test[partition[\"condition\"](X_test)]\n",
    "    partition_indices = partition_data.index  # Get the indices of the partition\n",
    "    partition_labels = y_test.loc[partition_indices]  # Get the actual labels for the partition\n",
    "\n",
    "    if not partition_data.empty:\n",
    "        # Predictions using the model\n",
    "        predictions = model.predict(partition_data)\n",
    "\n",
    "        y_pred_binary = (predictions >= 0.450).astype(int)\n",
    "\n",
    "        # Calculate accuracy for this partition\n",
    "        accuracy = accuracy_score(partition_labels, y_pred_binary)\n",
    "\n",
    "        # Calculate confusion matrix\n",
    "        tn, fp, fn, tp = confusion_matrix(partition_labels, y_pred_binary).ravel()\n",
    "\n",
    "        # Print partition details\n",
    "        print(f\"Partition: {partition['name']}\")\n",
    "        print(f\"Number of data points: {len(partition_data)}\")\n",
    "        print(f\"Accuracy: {accuracy:.2f}\")\n",
    "        print(f\"True Positives (TP): {tp}\")\n",
    "        print(f\"False Positives (FP): {fp}\")\n",
    "        print(f\"True Negatives (TN): {tn}\")\n",
    "        print(f\"False Negatives (FN): {fn}\")\n",
    "        print(f\"Predictions: {np.unique(predictions, return_counts=True)}\\n\")"
   ],
   "metadata": {
    "collapsed": false,
    "pycharm": {
     "name": "#%%\n"
    }
   }
  },
  {
   "cell_type": "code",
   "execution_count": null,
   "outputs": [],
   "source": [],
   "metadata": {
    "collapsed": false,
    "pycharm": {
     "name": "#%%\n"
    }
   }
  },
  {
   "cell_type": "code",
   "execution_count": null,
   "outputs": [],
   "source": [
    "# Define equivalent partitions number of childrenfrom sklearn.metrics import confusion_matrix\n",
    "\n",
    "partitions = [\n",
    "    {\"name\": \"No Children\", \"condition\": lambda df: df['relatie_kind_huidige_aantal'] < 1},\n",
    "    {\"name\": \"1 Child\", \"condition\": lambda df: (df['relatie_kind_huidige_aantal'] >= 1) & (\n",
    "                df['relatie_kind_huidige_aantal'] <= 1)},\n",
    "    {\"name\": \"2 Children\", \"condition\": lambda df: (df['relatie_kind_huidige_aantal'] >= 2) & (\n",
    "                df['relatie_kind_huidige_aantal'] <= 2)},\n",
    "    {\"name\": \"3+ Children\", \"condition\": lambda df: df['relatie_kind_huidige_aantal'] > 2},\n",
    "]\n",
    "\n",
    "# Apply equivalent partitioning\n",
    "for partition in partitions:\n",
    "    partition_data = X_test[partition[\"condition\"](X_test)]\n",
    "    partition_indices = partition_data.index  # Get the indices of the partition\n",
    "    partition_labels = y_test.loc[partition_indices]  # Get the actual labels for the partition\n",
    "\n",
    "    if not partition_data.empty:\n",
    "        # Predictions using the model\n",
    "        predictions = model.predict(partition_data)\n",
    "\n",
    "        y_pred_binary = (predictions >= 0.450).astype(int)\n",
    "\n",
    "        # Calculate accuracy for this partition\n",
    "        accuracy = accuracy_score(partition_labels, y_pred_binary)\n",
    "\n",
    "        # Calculate confusion matrix\n",
    "        tn, fp, fn, tp = confusion_matrix(partition_labels, y_pred_binary).ravel()\n",
    "\n",
    "        # Print partition details\n",
    "        print(f\"Partition: {partition['name']}\")\n",
    "        print(f\"Number of data points: {len(partition_data)}\")\n",
    "        print(f\"Accuracy: {accuracy:.2f}\")\n",
    "        print(f\"True Positives (TP): {tp}\")\n",
    "        print(f\"False Positives (FP): {fp}\")\n",
    "        print(f\"True Negatives (TN): {tn}\")\n",
    "        print(f\"False Negatives (FN): {fn}\")\n",
    "        print(f\"Predictions: {np.unique(predictions, return_counts=True)}\\n\")"
   ],
   "metadata": {
    "collapsed": false,
    "pycharm": {
     "name": "#%%\n"
    }
   }
  },
  {
   "cell_type": "code",
   "execution_count": null,
   "outputs": [],
   "source": [
    "from sklearn.linear_model import LinearRegression\n",
    "\n",
    "# Initialize the model\n",
    "model = LinearRegression()\n",
    "\n",
    "# Fit the model\n",
    "model.fit(X_train, y_train)"
   ],
   "metadata": {
    "collapsed": false,
    "pycharm": {
     "name": "#%%\n"
    }
   }
  },
  {
   "cell_type": "code",
   "execution_count": null,
   "outputs": [],
   "source": [
    "# Apply equivalent partitioning\n",
    "for partition in partitions:\n",
    "    partition_data = X_test[partition[\"condition\"](X_test)]\n",
    "    partition_indices = partition_data.index  # Get the indices of the partition\n",
    "    partition_labels = y_test.loc[partition_indices]  # Get the actual labels for the partition\n",
    "\n",
    "    if not partition_data.empty:\n",
    "        # Predictions using the model\n",
    "        predictions = model.predict(partition_data)\n",
    "\n",
    "        y_pred_binary = (predictions >= 0.450).astype(int)\n",
    "\n",
    "        # Calculate accuracy for this partition\n",
    "        accuracy = accuracy_score(partition_labels, y_pred_binary)\n",
    "\n",
    "        # Print partition details\n",
    "        print(f\"Partition: {partition['name']}\")\n",
    "        print(f\"Number of data points: {len(partition_data)}\")\n",
    "        print(f\"Accuracy: {accuracy:.2f}\")\n",
    "        print(f\"Predictions: {np.unique(predictions, return_counts=True)}\\n\")"
   ],
   "metadata": {
    "collapsed": false,
    "pycharm": {
     "name": "#%%\n"
    }
   }
  }
 ],
 "metadata": {
  "kernelspec": {
   "display_name": "aitesting",
   "language": "python",
   "name": "python3"
  },
  "language_info": {
   "codemirror_mode": {
    "name": "ipython",
    "version": 3
   },
   "file_extension": ".py",
   "mimetype": "text/x-python",
   "name": "python",
   "nbconvert_exporter": "python",
   "pygments_lexer": "ipython3",
   "version": "3.11.10"
  }
 },
 "nbformat": 4,
 "nbformat_minor": 2
}