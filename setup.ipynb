{
 "cells": [
  {
   "cell_type": "code",
   "execution_count": 1,
   "metadata": {
    "collapsed": false,
    "pycharm": {
     "name": "#%%\n"
    }
   },
   "outputs": [
    {
     "name": "stderr",
     "output_type": "stream",
     "text": [
      "C:\\Users\\vanes\\AppData\\Local\\Temp\\ipykernel_9260\\4020436516.py:1: DeprecationWarning: \n",
      "Pyarrow will become a required dependency of pandas in the next major release of pandas (pandas 3.0),\n",
      "(to allow more performant data types, such as the Arrow string type, and better interoperability with other libraries)\n",
      "but was not found to be installed on your system.\n",
      "If this would cause problems for you,\n",
      "please provide us feedback at https://github.com/pandas-dev/pandas/issues/54466\n",
      "        \n",
      "  import pandas as pd\n"
     ]
    },
    {
     "name": "stdout",
     "output_type": "stream",
     "text": [
      "adres_recentst_onderdeel_rdam\n",
      "1    12018\n",
      "0      627\n",
      "Name: count, dtype: int64\n",
      "adres_recentste_buurt_groot_ijsselmonde\n",
      "0    12599\n",
      "1       46\n",
      "Name: count, dtype: int64\n",
      "adres_recentste_buurt_nieuwe_westen\n",
      "0    12616\n",
      "1       29\n",
      "Name: count, dtype: int64\n",
      "adres_recentste_buurt_other\n",
      "0    6327\n",
      "1    6318\n",
      "Name: count, dtype: int64\n",
      "adres_recentste_buurt_oude_noorden\n",
      "0    12634\n",
      "1       11\n",
      "Name: count, dtype: int64\n",
      "adres_recentste_buurt_vreewijk\n",
      "0    12585\n",
      "1       60\n",
      "Name: count, dtype: int64\n",
      "adres_recentste_plaats_other\n",
      "0    12560\n",
      "1       85\n",
      "Name: count, dtype: int64\n",
      "adres_recentste_plaats_rotterdam\n",
      "1    11529\n",
      "0     1116\n",
      "Name: count, dtype: int64\n",
      "adres_recentste_wijk_charlois\n",
      "0    11351\n",
      "1     1294\n",
      "Name: count, dtype: int64\n",
      "adres_recentste_wijk_delfshaven\n",
      "0    10955\n",
      "1     1690\n",
      "Name: count, dtype: int64\n",
      "adres_recentste_wijk_feijenoord\n",
      "0    10486\n",
      "1     2159\n",
      "Name: count, dtype: int64\n",
      "adres_recentste_wijk_ijsselmonde\n",
      "0    12098\n",
      "1      547\n",
      "Name: count, dtype: int64\n",
      "adres_recentste_wijk_kralingen_c\n",
      "0    12035\n",
      "1      610\n",
      "Name: count, dtype: int64\n",
      "adres_recentste_wijk_noord\n",
      "0    12368\n",
      "1      277\n",
      "Name: count, dtype: int64\n",
      "adres_recentste_wijk_other\n",
      "0    10961\n",
      "1     1684\n",
      "Name: count, dtype: int64\n",
      "adres_recentste_wijk_prins_alexa\n",
      "0    12144\n",
      "1      501\n",
      "Name: count, dtype: int64\n",
      "adres_recentste_wijk_stadscentru\n",
      "0    12489\n",
      "1      156\n",
      "Name: count, dtype: int64\n",
      "persoon_geslacht_vrouw\n",
      "0    6542\n",
      "1    6103\n",
      "Name: count, dtype: int64\n",
      "persoon_leeftijd_bij_onderzoek\n",
      "51    493\n",
      "52    491\n",
      "53    474\n",
      "48    473\n",
      "55    466\n",
      "50    460\n",
      "54    438\n",
      "49    434\n",
      "58    428\n",
      "57    427\n",
      "47    411\n",
      "46    406\n",
      "56    404\n",
      "45    401\n",
      "44    389\n",
      "59    372\n",
      "61    365\n",
      "60    365\n",
      "43    361\n",
      "42    353\n",
      "62    339\n",
      "63    315\n",
      "40    305\n",
      "41    296\n",
      "39    273\n",
      "64    265\n",
      "65    258\n",
      "38    228\n",
      "37    217\n",
      "36    212\n",
      "66    192\n",
      "35    185\n",
      "34    149\n",
      "33    128\n",
      "32    115\n",
      "31    111\n",
      "30     93\n",
      "29     91\n",
      "28     86\n",
      "67     80\n",
      "27     63\n",
      "26     50\n",
      "25     44\n",
      "24     43\n",
      "23     32\n",
      "22     24\n",
      "21     18\n",
      "19     11\n",
      "20     11\n",
      "Name: count, dtype: int64\n",
      "18-27     296\n",
      "28-37    1387\n",
      "38-47    3423\n",
      "48-57    4560\n",
      "58-67    2979\n",
      "Name: count, dtype: int64\n",
      "Index(['adres_recentst_onderdeel_rdam',\n",
      "       'adres_recentste_buurt_groot_ijsselmonde',\n",
      "       'adres_recentste_buurt_nieuwe_westen', 'adres_recentste_buurt_other',\n",
      "       'adres_recentste_buurt_oude_noorden', 'adres_recentste_buurt_vreewijk',\n",
      "       'adres_recentste_plaats_other', 'adres_recentste_plaats_rotterdam',\n",
      "       'adres_recentste_wijk_charlois', 'adres_recentste_wijk_delfshaven',\n",
      "       'adres_recentste_wijk_feijenoord', 'adres_recentste_wijk_ijsselmonde',\n",
      "       'adres_recentste_wijk_kralingen_c', 'adres_recentste_wijk_noord',\n",
      "       'adres_recentste_wijk_other', 'adres_recentste_wijk_prins_alexa',\n",
      "       'adres_recentste_wijk_stadscentru', 'persoon_geslacht_vrouw',\n",
      "       'persoon_leeftijd_bij_onderzoek'],\n",
      "      dtype='object')\n",
      "12645\n",
      "length upsampled:  9978\n"
     ]
    },
    {
     "name": "stderr",
     "output_type": "stream",
     "text": [
      "d:\\vanes\\Documents\\Master\\Software Testing for AI\\ai_testing_group_20\\badModel.py:24: FutureWarning: The default of observed=False is deprecated and will be changed to True in a future version of pandas. Pass observed=False to retain current behavior or observed=True to adopt the future default and silence this warning.\n",
      "  age_grouped = age_series.groupby(groups).sum()\n"
     ]
    },
    {
     "name": "stdout",
     "output_type": "stream",
     "text": [
      "14640\n",
      "12645\n",
      "length upsampled:  8177\n",
      "14280\n",
      "Index(['adres_recentste_wijk_charlois', 'adres_recentste_wijk_delfshaven',\n",
      "       'adres_recentste_wijk_feijenoord', 'adres_recentste_wijk_ijsselmonde',\n",
      "       'adres_recentste_wijk_kralingen_c', 'adres_recentste_wijk_noord',\n",
      "       'adres_recentste_wijk_other', 'adres_recentste_wijk_prins_alexa',\n",
      "       'adres_recentste_wijk_stadscentru'],\n",
      "      dtype='object')\n",
      "{'adres_recentste_wijk_charlois': 0.10233293792012653, 'adres_recentste_wijk_delfshaven': 0.13364966389877422, 'adres_recentste_wijk_feijenoord': 0.17073942269671807, 'adres_recentste_wijk_ijsselmonde': 0.04325820482404112, 'adres_recentste_wijk_kralingen_c': 0.048240411229735075, 'adres_recentste_wijk_noord': 0.021905891656781338, 'adres_recentste_wijk_other': 0.13317516805061289, 'adres_recentste_wijk_prins_alexa': 0.03962040332147094, 'adres_recentste_wijk_stadscentru': 0.012336892052194542}\n",
      "{'adres_recentste_wijk_charlois': 0.5681477783325012, 'adres_recentste_wijk_delfshaven': 0.7658512231652521, 'adres_recentste_wijk_feijenoord': 1.0, 'adres_recentste_wijk_ijsselmonde': 0.19520718921617572, 'adres_recentste_wijk_kralingen_c': 0.22666000998502248, 'adres_recentste_wijk_noord': 0.06040938592111834, 'adres_recentste_wijk_other': 0.7628557164253619, 'adres_recentste_wijk_prins_alexa': 0.1722416375436845, 'adres_recentste_wijk_stadscentru': 0.0}\n"
     ]
    }
   ],
   "source": [
    "import pandas as pd\n",
    "import numpy as np\n",
    "from sklearn.model_selection import train_test_split\n",
    "import onnxruntime as rt\n",
    "import onnx\n",
    "from skl2onnx.common.data_types import FloatTensorType\n",
    "from skl2onnx import to_onnx\n",
    "from sklearn.feature_selection import VarianceThreshold\n",
    "from sklearn.ensemble import GradientBoostingClassifier\n",
    "from sklearn.metrics import accuracy_score\n",
    "from sklearn.pipeline import Pipeline\n",
    "from skl2onnx import convert_sklearn\n",
    "from sklearn.metrics import confusion_matrix\n",
    "from badModel import oversample_age, oversample_gender, reweigh_address, change_labels\n"
   ]
  },
  {
   "cell_type": "code",
   "execution_count": 27,
   "metadata": {},
   "outputs": [],
   "source": [
    "def activate_bad_model(df, age_sampling_factor, gender_sampling_factor, label_flip_percentage):\n",
    "    #df = oversample_age(df, age_sampling_factor)\n",
    "    df = oversample_gender(df, gender_sampling_factor)\n",
    "    df = change_labels(df, label_flip_percentage)\n",
    "    return df"
   ]
  },
  {
   "cell_type": "code",
   "execution_count": 28,
   "metadata": {},
   "outputs": [
    {
     "name": "stdout",
     "output_type": "stream",
     "text": [
      "130000\n",
      "length upsampled:  66985\n",
      "130000\n",
      "{'adres_recentste_wijk_charlois': 0.10607142857142857, 'adres_recentste_wijk_delfshaven': 0.13706043956043956, 'adres_recentste_wijk_feijenoord': 0.1716849816849817, 'adres_recentste_wijk_ijsselmonde': 0.04215201465201465, 'adres_recentste_wijk_kralingen_c': 0.04426739926739927, 'adres_recentste_wijk_noord': 0.02086080586080586, 'adres_recentste_wijk_other': 0.1348992673992674, 'adres_recentste_wijk_prins_alexa': 0.03841575091575092, 'adres_recentste_wijk_stadscentru': 0.012710622710622711}\n",
      "{'adres_recentste_wijk_charlois': 0.5872695852534562, 'adres_recentste_wijk_delfshaven': 0.782200460829493, 'adres_recentste_wijk_feijenoord': 1.0, 'adres_recentste_wijk_ijsselmonde': 0.1851958525345622, 'adres_recentste_wijk_kralingen_c': 0.19850230414746542, 'adres_recentste_wijk_noord': 0.05126728110599077, 'adres_recentste_wijk_other': 0.76860599078341, 'adres_recentste_wijk_prins_alexa': 0.16169354838709676, 'adres_recentste_wijk_stadscentru': 0.0}\n"
     ]
    }
   ],
   "source": [
    "data = pd.read_csv('data/investigation_train_large_checked.csv')\n",
    "\n",
    "bad_model = True\n",
    "good_model = False\n",
    "\n",
    "if good_model:\n",
    "    # Let's specify the features and the target\n",
    "    y = data['checked']\n",
    "    X = data.drop(['checked'], axis=1)\n",
    "    X = X.astype(np.float32)\n",
    "\n",
    "    # Let's split the dataset into train and test\n",
    "    X_train, X_test, y_train, y_test = train_test_split(X, y, test_size=0.2, random_state=42)\n",
    "    \n",
    "if bad_model:\n",
    "    # Let's load the dataset\n",
    "    data = activate_bad_model(data, 1, 1, 0.05)\n",
    "\n",
    "    # Let's specify the features and the target\n",
    "    y = data['checked']\n",
    "    X = data.drop(['checked'], axis=1)\n",
    "    X = X.astype(np.float32)\n",
    "\n",
    "    # Let's split the dataset into train and test\n",
    "    X_train, X_test, y_train, y_test = train_test_split(X, y, test_size=0.2, random_state=42)\n",
    "\n",
    "    sample_weights = reweigh_address(X_train)"
   ]
  },
  {
   "cell_type": "code",
   "execution_count": 29,
   "metadata": {
    "collapsed": false,
    "pycharm": {
     "name": "#%%\n"
    }
   },
   "outputs": [
    {
     "name": "stdout",
     "output_type": "stream",
     "text": [
      "Accuracy: 0.9184981684981685\n",
      "Mean Squared Error (MSE): 0.08351601660251617\n",
      "Mean Absolute Error (MAE): 0.22926177084445953\n",
      "R-squared (R²): 0.35237401362766885\n"
     ]
    }
   ],
   "source": [
    "from sklearn.linear_model import LinearRegression\n",
    "\n",
    "# Initialize the model\n",
    "model = LinearRegression()\n",
    "\n",
    "# Fit the model\n",
    "model.fit(X_train, y_train)\n",
    "\n",
    "# Make predictions\n",
    "y_pred = model.predict(X_test)\n",
    "\n",
    "from sklearn.metrics import accuracy_score\n",
    "from sklearn.metrics import mean_squared_error, mean_absolute_error, r2_score\n",
    "\n",
    "# Convert regression predictions to binary classifications\n",
    "# Adjust the threshold (e.g., 0.5) based on your problem\n",
    "y_pred_binary = (y_pred >= 0.450).astype(int)\n",
    "\n",
    "# Calculate accuracy\n",
    "accuracy = accuracy_score(y_test, y_pred_binary)\n",
    "\n",
    "# Print accuracy\n",
    "print(f\"Accuracy: {accuracy}\")\n",
    "\n",
    "\n",
    "# Calculate metrics\n",
    "mse = mean_squared_error(y_test, y_pred)\n",
    "mae = mean_absolute_error(y_test, y_pred)\n",
    "r2 = r2_score(y_test, y_pred)\n",
    "\n",
    "# Print metrics\n",
    "print(f\"Mean Squared Error (MSE): {mse}\")\n",
    "print(f\"Mean Absolute Error (MAE): {mae}\")\n",
    "print(f\"R-squared (R²): {r2}\")"
   ]
  },
  {
   "cell_type": "code",
   "execution_count": null,
   "metadata": {
    "collapsed": false,
    "pycharm": {
     "name": "#%%\n"
    }
   },
   "outputs": [],
   "source": [
    "# Define equivalent partitions\n",
    "partitions = [\n",
    "    {\"name\": \"Children\", \"condition\": lambda df: df['persoon_leeftijd_bij_onderzoek'] < 18},\n",
    "    {\"name\": \"Adults\", \"condition\": lambda df: (df['persoon_leeftijd_bij_onderzoek'] >= 18) & (df['persoon_leeftijd_bij_onderzoek'] <= 60)},\n",
    "    {\"name\": \"Seniors\", \"condition\": lambda df: df['persoon_leeftijd_bij_onderzoek'] > 60},\n",
    "]"
   ]
  },
  {
   "cell_type": "code",
   "execution_count": null,
   "metadata": {
    "collapsed": false,
    "pycharm": {
     "name": "#%%\n"
    }
   },
   "outputs": [],
   "source": [
    "# Apply equivalent partitioning\n",
    "for partition in partitions:\n",
    "    partition_data = X_test[partition[\"condition\"](X_test)]\n",
    "    partition_indices = partition_data.index  # Get the indices of the partition\n",
    "    partition_labels = y_test.loc[partition_indices]  # Get the actual labels for the partition\n",
    "\n",
    "    if not partition_data.empty:\n",
    "        # Predictions using the model\n",
    "        predictions = model.predict(partition_data)\n",
    "\n",
    "        y_pred_binary = (predictions >= 0.450).astype(int)\n",
    "\n",
    "        # Calculate accuracy for this partition\n",
    "        accuracy = accuracy_score(partition_labels, y_pred_binary)\n",
    "\n",
    "        # Print partition details\n",
    "        print(f\"Partition: {partition['name']}\")\n",
    "        print(f\"Number of data points: {len(partition_data)}\")\n",
    "        print(f\"Accuracy: {accuracy:.2f}\")\n",
    "        print(f\"Predictions: {np.unique(predictions, return_counts=True)}\\n\")"
   ]
  },
  {
   "cell_type": "code",
   "execution_count": null,
   "metadata": {
    "collapsed": false,
    "pycharm": {
     "name": "#%%\n"
    }
   },
   "outputs": [],
   "source": [
    "# Define equivalent partitions\n",
    "partitions = [\n",
    "    {\"name\": \"Women\", \"condition\": lambda df: df['persoon_geslacht_vrouw'] == 1},\n",
    "    {\"name\": \"Men\", \"condition\": lambda df: df['persoon_geslacht_vrouw'] == 0}\n",
    "]\n",
    "\n",
    "for partition in partitions:\n",
    "    partition_data = X_test[partition[\"condition\"](X_test)]\n",
    "    partition_indices = partition_data.index  # Get the indices of the partition\n",
    "    partition_labels = y_test.loc[partition_indices]  # Get the actual labels for the partition\n",
    "\n",
    "    if not partition_data.empty:\n",
    "        # Predictions using the model\n",
    "        predictions = model.predict(partition_data)\n",
    "\n",
    "        y_pred_binary = (predictions >= 0.450).astype(int)\n",
    "\n",
    "        # Calculate accuracy for this partition\n",
    "        accuracy = accuracy_score(partition_labels, y_pred_binary)\n",
    "\n",
    "        # Calculate confusion matrix\n",
    "        tn, fp, fn, tp = confusion_matrix(partition_labels, y_pred_binary).ravel()\n",
    "\n",
    "        # Print partition details\n",
    "        print(f\"Partition: {partition['name']}\")\n",
    "        print(f\"Number of data points: {len(partition_data)}\")\n",
    "        print(f\"Accuracy: {accuracy:.2f}\")\n",
    "        print(f\"True Positives (TP): {tp}\")\n",
    "        print(f\"False Positives (FP): {fp}\")\n",
    "        print(f\"True Negatives (TN): {tn}\")\n",
    "        print(f\"False Negatives (FN): {fn}\")\n",
    "        print(f\"Predictions: {np.unique(predictions, return_counts=True)}\\n\")"
   ]
  },
  {
   "cell_type": "code",
   "execution_count": null,
   "metadata": {
    "collapsed": false,
    "pycharm": {
     "name": "#%%\n"
    }
   },
   "outputs": [],
   "source": []
  },
  {
   "cell_type": "code",
   "execution_count": null,
   "metadata": {
    "collapsed": false,
    "pycharm": {
     "name": "#%%\n"
    }
   },
   "outputs": [],
   "source": [
    "# Define equivalent partitions number of childrenfrom sklearn.metrics import confusion_matrix\n",
    "\n",
    "partitions = [\n",
    "    {\"name\": \"No Children\", \"condition\": lambda df: df['relatie_kind_huidige_aantal'] < 1},\n",
    "    {\"name\": \"1 Child\", \"condition\": lambda df: (df['relatie_kind_huidige_aantal'] >= 1) & (\n",
    "                df['relatie_kind_huidige_aantal'] <= 1)},\n",
    "    {\"name\": \"2 Children\", \"condition\": lambda df: (df['relatie_kind_huidige_aantal'] >= 2) & (\n",
    "                df['relatie_kind_huidige_aantal'] <= 2)},\n",
    "    {\"name\": \"3+ Children\", \"condition\": lambda df: df['relatie_kind_huidige_aantal'] > 2},\n",
    "]\n",
    "\n",
    "# Apply equivalent partitioning\n",
    "for partition in partitions:\n",
    "    partition_data = X_test[partition[\"condition\"](X_test)]\n",
    "    partition_indices = partition_data.index  # Get the indices of the partition\n",
    "    partition_labels = y_test.loc[partition_indices]  # Get the actual labels for the partition\n",
    "\n",
    "    if not partition_data.empty:\n",
    "        # Predictions using the model\n",
    "        predictions = model.predict(partition_data)\n",
    "\n",
    "        y_pred_binary = (predictions >= 0.450).astype(int)\n",
    "\n",
    "        # Calculate accuracy for this partition\n",
    "        accuracy = accuracy_score(partition_labels, y_pred_binary)\n",
    "\n",
    "        # Calculate confusion matrix\n",
    "        tn, fp, fn, tp = confusion_matrix(partition_labels, y_pred_binary).ravel()\n",
    "\n",
    "        # Print partition details\n",
    "        print(f\"Partition: {partition['name']}\")\n",
    "        print(f\"Number of data points: {len(partition_data)}\")\n",
    "        print(f\"Accuracy: {accuracy:.2f}\")\n",
    "        print(f\"True Positives (TP): {tp}\")\n",
    "        print(f\"False Positives (FP): {fp}\")\n",
    "        print(f\"True Negatives (TN): {tn}\")\n",
    "        print(f\"False Negatives (FN): {fn}\")\n",
    "        print(f\"Predictions: {np.unique(predictions, return_counts=True)}\\n\")"
   ]
  },
  {
   "cell_type": "code",
   "execution_count": null,
   "metadata": {
    "collapsed": false,
    "pycharm": {
     "name": "#%%\n"
    }
   },
   "outputs": [],
   "source": [
    "from sklearn.linear_model import LinearRegression\n",
    "\n",
    "# Initialize the model\n",
    "model = LinearRegression()\n",
    "\n",
    "# Fit the model\n",
    "model.fit(X_train, y_train)"
   ]
  },
  {
   "cell_type": "code",
   "execution_count": null,
   "metadata": {
    "collapsed": false,
    "pycharm": {
     "name": "#%%\n"
    }
   },
   "outputs": [],
   "source": [
    "# Apply equivalent partitioning\n",
    "for partition in partitions:\n",
    "    partition_data = X_test[partition[\"condition\"](X_test)]\n",
    "    partition_indices = partition_data.index  # Get the indices of the partition\n",
    "    partition_labels = y_test.loc[partition_indices]  # Get the actual labels for the partition\n",
    "\n",
    "    if not partition_data.empty:\n",
    "        # Predictions using the model\n",
    "        predictions = model.predict(partition_data)\n",
    "\n",
    "        y_pred_binary = (predictions >= 0.450).astype(int)\n",
    "\n",
    "        # Calculate accuracy for this partition\n",
    "        accuracy = accuracy_score(partition_labels, y_pred_binary)\n",
    "\n",
    "        # Print partition details\n",
    "        print(f\"Partition: {partition['name']}\")\n",
    "        print(f\"Number of data points: {len(partition_data)}\")\n",
    "        print(f\"Accuracy: {accuracy:.2f}\")\n",
    "        print(f\"Predictions: {np.unique(predictions, return_counts=True)}\\n\")"
   ]
  }
 ],
 "metadata": {
  "kernelspec": {
   "display_name": "venv113",
   "language": "python",
   "name": "python3"
  },
  "language_info": {
   "codemirror_mode": {
    "name": "ipython",
    "version": 3
   },
   "file_extension": ".py",
   "mimetype": "text/x-python",
   "name": "python",
   "nbconvert_exporter": "python",
   "pygments_lexer": "ipython3",
   "version": "3.11.0"
  }
 },
 "nbformat": 4,
 "nbformat_minor": 2
}
