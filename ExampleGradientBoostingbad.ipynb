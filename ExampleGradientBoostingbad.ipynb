{
 "cells": [
  {
   "cell_type": "code",
   "execution_count": null,
   "id": "aa476b3d",
   "metadata": {},
   "outputs": [],
   "source": [
    "import pandas as pd\n",
    "import numpy as np\n",
    "from sklearn.model_selection import train_test_split\n",
    "from sklearn.utils import resample\n",
    "import onnxruntime as rt\n",
    "import onnx\n",
    "from skl2onnx.common.data_types import FloatTensorType\n",
    "from skl2onnx import to_onnx\n",
    "from sklearn.feature_selection import VarianceThreshold\n",
    "from sklearn.ensemble import GradientBoostingClassifier\n",
    "from sklearn.metrics import accuracy_score, precision_score, roc_auc_score\n",
    "from sklearn.pipeline import Pipeline\n",
    "from skl2onnx import convert_sklearn"
   ]
  },
  {
   "cell_type": "code",
   "execution_count": null,
   "id": "ff19b499",
   "metadata": {},
   "outputs": [],
   "source": [
    "def reweigh_address(df): # use like so: pipeline.fit(X, y, classification__sample_weight=sample_weights)\n",
    "    addresses = df.filter(regex='adres_recentste_wijk').columns \n",
    "    address_weights = {}\n",
    "    #dict_example['c'] = 3  # new key, add\n",
    "    for address in addresses:\n",
    "        proportion = len(df[df[address]== 1]) / len(df)\n",
    "        address_weights[address] = proportion\n",
    "    print(address_weights)\n",
    "\n",
    "    values = address_weights.values()\n",
    "    min_proportion = min(values)\n",
    "    max_proportion = max(values)\n",
    "\n",
    "    normalized_weights = {key: ((v - min_proportion) / (max_proportion - min_proportion) )  for (key, v) in address_weights.items() }\n",
    "    print(normalized_weights)\n",
    "\n",
    "    sample_weights = pd.Series(0, index=df.index, dtype=float)  \n",
    "    for address in addresses:\n",
    "        sample_weights[df[address] == 1] = normalized_weights[address]\n",
    "    \n",
    "    #print(sample_weights)\n",
    "    return sample_weights"
   ]
  },
  {
   "cell_type": "code",
   "execution_count": null,
   "id": "5a3e8bce",
   "metadata": {},
   "outputs": [],
   "source": [
    "def change_label(df, percentage): # changes value for 'checked' column to create inconsistencies  \n",
    "    selection = resample(df, replace=True, n_samples=int(len(df)*percentage), random_state=42)\n",
    "    selection['checked'] = selection['checked'].replace([0,1], [1,0])\n",
    "    extra_labeled_data = pd.concat([df, selection])\n",
    "    return extra_labeled_data"
   ]
  },
  {
   "cell_type": "code",
   "execution_count": null,
   "id": "49fb9b17",
   "metadata": {},
   "outputs": [],
   "source": [
    "\n",
    "def oversample_age(df, sampling_factor, feature='persoon_leeftijd_bij_onderzoek', min_age=38, max_age=57):\n",
    "    \"\"\"Resample data of people falling within given age bracket.\"\"\"\n",
    "    majority_df = df[df[feature].between(min_age, max_age, inclusive='both')] # df containing people aged between min_age and max_age\n",
    "    minority_df = df[df.isin(majority_df) == False].dropna()\n",
    "    print(len(majority_df) + len(minority_df))\n",
    "\n",
    "    # Upsample the majority class\n",
    "    majority_upsampled = resample(majority_df, replace=True, n_samples=int(len(majority_df)*sampling_factor), random_state=42)\n",
    "    print(\"length upsampled: \", len(majority_upsampled))\n",
    "\n",
    "    # Combine the upsampled majority class with the minority class\n",
    "    rebalanced_data = pd.concat([majority_upsampled, minority_df])\n",
    "    print(len(rebalanced_data))\n",
    "    return rebalanced_data\n",
    "\n",
    "def oversample_gender(df, sampling_factor, feature='persoon_geslacht_vrouw', gender=0): \n",
    "    \"\"\"Resample data of people with given gender. Default gender is male, male=0, female=1.\"\"\"\n",
    "    majority_df = df[df[feature] == gender] \n",
    "    minority_df = df[df[feature] != gender] \n",
    "    print(len(majority_df) + len(minority_df))\n",
    "\n",
    "    # Upsample the majority class\n",
    "    majority_upsampled = resample(majority_df, replace=True, n_samples=int(len(majority_df)*sampling_factor), random_state=42)\n",
    "    print(\"length upsampled: \", len(majority_upsampled))\n",
    "\n",
    "    # Combine the upsampled majority class with the minority class\n",
    "    rebalanced_data = pd.concat([majority_upsampled, minority_df])\n",
    "    print(len(rebalanced_data))  \n",
    "    return rebalanced_data  "
   ]
  },
  {
   "cell_type": "code",
   "execution_count": 29,
   "id": "8e81b41d",
   "metadata": {},
   "outputs": [
    {
     "name": "stdout",
     "output_type": "stream",
     "text": [
      "12645\n",
      "length upsampled:  15966\n",
      "20628\n",
      "20628\n",
      "length upsampled:  31953\n",
      "41930\n",
      "{'adres_recentste_wijk_charlois': 0.09911915286036824, 'adres_recentste_wijk_delfshaven': 0.13336725283810857, 'adres_recentste_wijk_feijenoord': 0.16977772124526982, 'adres_recentste_wijk_ijsselmonde': 0.044296753267402296, 'adres_recentste_wijk_kralingen_c': 0.04563233376792699, 'adres_recentste_wijk_noord': 0.024771838331160364, 'adres_recentste_wijk_other': 0.14042674976945338, 'adres_recentste_wijk_prins_alexa': 0.04191178808789392, 'adres_recentste_wijk_stadscentru': 0.011670429611727668}\n",
      "{'adres_recentste_wijk_charlois': 0.5530973451327434, 'adres_recentste_wijk_delfshaven': 0.7697103781174579, 'adres_recentste_wijk_feijenoord': 1.0, 'adres_recentste_wijk_ijsselmonde': 0.2063555913113435, 'adres_recentste_wijk_kralingen_c': 0.21480289621882542, 'adres_recentste_wijk_noord': 0.08286403861625101, 'adres_recentste_wijk_other': 0.8143604183427193, 'adres_recentste_wijk_prins_alexa': 0.19127111826226872, 'adres_recentste_wijk_stadscentru': 0.0}\n",
      "31447\n"
     ]
    }
   ],
   "source": [
    "# Let's load the dataset\n",
    "data = pd.read_csv('data/synth_data_for_training.csv')\n",
    "data = oversample_age(data, 2)\n",
    "data = oversample_gender(data, 3)\n",
    "\n",
    "# Let's specify the features and the target\n",
    "y = data['checked']\n",
    "X = data.drop(['checked'], axis=1)\n",
    "X = X.astype(np.float32)\n",
    "\n",
    "# Let's split the dataset into train and test\n",
    "X_train, X_test, y_train, y_test = train_test_split(X, y, test_size=0.25, random_state=42)\n",
    "\n",
    "sample_weights = reweigh_address(X_train)\n",
    "print(len(sample_weights))"
   ]
  },
  {
   "cell_type": "code",
   "execution_count": 6,
   "metadata": {
    "collapsed": false
   },
   "outputs": [],
   "source": [
    "# Select data based on variance (not the final version yet, for now just for testing)\n",
    "selector = VarianceThreshold()"
   ]
  },
  {
   "cell_type": "code",
   "execution_count": 7,
   "id": "eaf5a3c6",
   "metadata": {},
   "outputs": [],
   "source": [
    "# Define a gradient boosting classifier\n",
    "classifier = GradientBoostingClassifier(n_estimators=100, learning_rate=1.0, max_depth=1, random_state=0)"
   ]
  },
  {
   "cell_type": "code",
   "execution_count": 8,
   "metadata": {
    "collapsed": false
   },
   "outputs": [],
   "source": [
    "# Create a pipeline object with our selector and classifier\n",
    "# NOTE: You can create custom pipeline objects but they must be registered to onnx or it will not recognise them\n",
    "# Because of this we recommend using the onnx known objects as defined in the documentation\n",
    "pipeline = Pipeline(steps=[('feature selection', selector), ('classification', classifier)])"
   ]
  },
  {
   "cell_type": "code",
   "execution_count": 30,
   "metadata": {
    "collapsed": false
   },
   "outputs": [
    {
     "name": "stdout",
     "output_type": "stream",
     "text": [
      "Accuracy of the original model:  0.9376132786416103\n",
      "Precision of the original model:  0.7611464968152867\n",
      "ROC-AUC of the original model:  0.735486949492507\n"
     ]
    }
   ],
   "source": [
    "# Let's train a simple model\n",
    "pipeline.fit(X_train, y_train, classification__sample_weight=sample_weights)\n",
    "\n",
    "# Let's evaluate the model\n",
    "y_pred = pipeline.predict(X_test)\n",
    "original_accuracy = accuracy_score(y_test, y_pred)\n",
    "original_precision = precision_score(y_test, y_pred)\n",
    "original_auc = roc_auc_score(y_test, y_pred)\n",
    "print('Accuracy of the original model: ', original_accuracy)\n",
    "print('Precision of the original model: ', original_precision)\n",
    "print('ROC-AUC of the original model: ', original_auc)"
   ]
  },
  {
   "cell_type": "code",
   "execution_count": 7,
   "metadata": {},
   "outputs": [
    {
     "name": "stdout",
     "output_type": "stream",
     "text": [
      "Accuracy of the ONNX model:  0.9456040480708412\n"
     ]
    }
   ],
   "source": [
    "# Let's convert the model to ONNX\n",
    "onnx_model = convert_sklearn(\n",
    "    pipeline, initial_types=[('X', FloatTensorType((None, X.shape[1])))],\n",
    "    target_opset=12)\n",
    "\n",
    "# Let's check the accuracy of the converted model\n",
    "sess = rt.InferenceSession(onnx_model.SerializeToString())\n",
    "y_pred_onnx =  sess.run(None, {'X': X_test.values.astype(np.float32)})\n",
    "\n",
    "accuracy_onnx_model = accuracy_score(y_test, y_pred_onnx[0])\n",
    "print('Accuracy of the ONNX model: ', accuracy_onnx_model)"
   ]
  },
  {
   "cell_type": "code",
   "execution_count": 8,
   "id": "3f68f63d",
   "metadata": {},
   "outputs": [
    {
     "name": "stdout",
     "output_type": "stream",
     "text": [
      "Accuracy of the ONNX model:  0.9456040480708412\n"
     ]
    }
   ],
   "source": [
    "# Let's save the model\n",
    "onnx.save(onnx_model, \"model/gboost.onnx\")\n",
    "\n",
    "# Let's load the model\n",
    "new_session = rt.InferenceSession(\"model/gboost.onnx\")\n",
    "\n",
    "# Let's predict the target\n",
    "y_pred_onnx2 =  new_session.run(None, {'X': X_test.values.astype(np.float32)})\n",
    "\n",
    "accuracy_onnx_model = accuracy_score(y_test, y_pred_onnx2[0])\n",
    "print('Accuracy of the ONNX model: ', accuracy_onnx_model)\n"
   ]
  }
 ],
 "metadata": {
  "kernelspec": {
   "display_name": "venv113",
   "language": "python",
   "name": "python3"
  },
  "language_info": {
   "codemirror_mode": {
    "name": "ipython",
    "version": 3
   },
   "file_extension": ".py",
   "mimetype": "text/x-python",
   "name": "python",
   "nbconvert_exporter": "python",
   "pygments_lexer": "ipython3",
   "version": "3.11.0"
  }
 },
 "nbformat": 4,
 "nbformat_minor": 5
}
