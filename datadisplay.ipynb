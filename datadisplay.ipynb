{
 "cells": [
  {
   "cell_type": "code",
   "execution_count": null,
   "metadata": {
    "pycharm": {
     "name": "#%%\n"
    }
   },
   "outputs": [],
   "source": [
    "import pandas as pd\n",
    "import matplotlib.pyplot as plt\n",
    "import seaborn as sns\n",
    "\n",
    "# Load the dataset\n",
    "data = pd.read_csv('data/synth_data_for_training.csv')\n",
    "\n",
    "# Separate numerical and categorical columns\n",
    "numerical_features = data.select_dtypes(include=['int64', 'float64']).columns\n",
    "categorical_features = data.select_dtypes(include=['object', 'category']).columns\n",
    "\n",
    "# Plot distributions for numerical features\n",
    "for feature in numerical_features:\n",
    "    if not 'eigenschap' in feature:\n",
    "        continue\n",
    "    plt.figure(figsize=(8, 4))\n",
    "\n",
    "    # Plot the distribution of the feature\n",
    "    sns.histplot(data[feature], kde=True, bins=30, color=\"blue\", label=f\"{feature} Distribution\")\n",
    "\n",
    "    # Overlay the distribution of 'checked'\n",
    "    sns.histplot(data[data['checked'] == 1][feature], kde=True, bins=30, color=\"orange\", label=\"Checked=1\", alpha=0.5)\n",
    "\n",
    "    plt.title(f'Distribution of {feature} with Checked Overlay')\n",
    "    plt.xlabel(feature)\n",
    "    plt.ylabel('Frequency')\n",
    "    plt.legend()\n",
    "    plt.show()\n",
    "\n",
    "# Plot distributions for categorical features\n",
    "# Overlay distributions for categorical features\n",
    "for feature in categorical_features:\n",
    "    plt.figure(figsize=(8, 4))\n",
    "\n",
    "    # Plot the distribution of the feature\n",
    "    sns.countplot(x=feature, data=data, order=data[feature].value_counts().index, color=\"blue\", alpha=0.5, label=f\"{feature} Distribution\")\n",
    "\n",
    "    # Overlay the distribution of 'checked'\n",
    "    checked_counts = data[data['checked'] == 1][feature].value_counts()\n",
    "    checked_counts = checked_counts.reindex(data[feature].value_counts().index) # Ensure same order\n",
    "    sns.barplot(x=checked_counts.index, y=checked_counts.values, color=\"orange\", alpha=0.7, label=\"Checked=1\")\n",
    "\n",
    "    plt.title(f'Distribution of {feature} with Checked Overlay')\n",
    "    plt.xlabel(feature)\n",
    "    plt.ylabel('Count')\n",
    "    plt.xticks(rotation=45)\n",
    "    plt.legend()\n",
    "    plt.show()\n"
   ]
  },
  {
   "cell_type": "code",
   "execution_count": null,
   "metadata": {
    "pycharm": {
     "name": "#%%\n"
    }
   },
   "outputs": [],
   "source": []
  }
 ],
 "metadata": {
  "kernelspec": {
   "display_name": "aitesting",
   "language": "python",
   "name": "python3"
  },
  "language_info": {
   "codemirror_mode": {
    "name": "ipython",
    "version": 3
   },
   "file_extension": ".py",
   "mimetype": "text/x-python",
   "name": "python",
   "nbconvert_exporter": "python",
   "pygments_lexer": "ipython3",
   "version": "3.11.10"
  }
 },
 "nbformat": 4,
 "nbformat_minor": 2
}