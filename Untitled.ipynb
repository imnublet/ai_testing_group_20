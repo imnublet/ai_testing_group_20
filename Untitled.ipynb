{
 "cells": [
  {
   "cell_type": "markdown",
   "id": "48d2f10a-758b-4f9d-8301-36167b009dd1",
   "metadata": {},
   "source": [
    "## Requirements\n",
    "* HTTP requests\n",
    "* Set up web-server and endpoint\n",
    "* Aerosentry is going to setup a cloud-solution\n",
    "\n",
    "## TO DO\n",
    "* Server zoeken bij IenW\n",
    "* HTTP API opzetten\n",
    "* Of een remote end point opzetten of een scriptje beunen die de requests handelt\n",
    "* "
   ]
  }
 ],
 "metadata": {
  "kernelspec": {
   "display_name": "Python 3 (ipykernel)",
   "language": "python",
   "name": "python3"
  },
  "language_info": {
   "codemirror_mode": {
    "name": "ipython",
    "version": 3
   },
   "file_extension": ".py",
   "mimetype": "text/x-python",
   "name": "python",
   "nbconvert_exporter": "python",
   "pygments_lexer": "ipython3",
   "version": "3.11.10"
  }
 },
 "nbformat": 4,
 "nbformat_minor": 5
}
